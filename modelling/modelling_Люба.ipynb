{
 "cells": [
  {
   "cell_type": "markdown",
   "metadata": {},
   "source": [
    "## Imports"
   ]
  },
  {
   "cell_type": "code",
   "execution_count": 81,
   "metadata": {},
   "outputs": [],
   "source": [
    "import numpy as np\n",
    "import pandas as pd\n",
    "import seaborn as sns\n",
    "import scipy.stats as st\n",
    "import matplotlib.pyplot as plt\n",
    "\n",
    "from sklearn import linear_model\n",
    "from sklearn.model_selection import train_test_split\n",
    "from sklearn.ensemble import RandomForestRegressor"
   ]
  },
  {
   "cell_type": "markdown",
   "metadata": {},
   "source": [
    "## Данные"
   ]
  },
  {
   "cell_type": "code",
   "execution_count": 2,
   "metadata": {},
   "outputs": [
    {
     "data": {
      "text/html": [
       "<div>\n",
       "<style scoped>\n",
       "    .dataframe tbody tr th:only-of-type {\n",
       "        vertical-align: middle;\n",
       "    }\n",
       "\n",
       "    .dataframe tbody tr th {\n",
       "        vertical-align: top;\n",
       "    }\n",
       "\n",
       "    .dataframe thead th {\n",
       "        text-align: right;\n",
       "    }\n",
       "</style>\n",
       "<table border=\"1\" class=\"dataframe\">\n",
       "  <thead>\n",
       "    <tr style=\"text-align: right;\">\n",
       "      <th></th>\n",
       "      <th>DT</th>\n",
       "      <th>t вып-обр</th>\n",
       "      <th>t обработка</th>\n",
       "      <th>t под током</th>\n",
       "      <th>t продувка</th>\n",
       "      <th>ПСН гр.</th>\n",
       "      <th>чист расход C</th>\n",
       "      <th>чист расход Cr</th>\n",
       "      <th>чист расход Mn</th>\n",
       "      <th>чист расход Si</th>\n",
       "      <th>...</th>\n",
       "      <th>химшлак первый MnO_1</th>\n",
       "      <th>химшлак первый R_1</th>\n",
       "      <th>химшлак первый SiO2_1</th>\n",
       "      <th>химшлак последний Al2O3</th>\n",
       "      <th>химшлак последний CaO</th>\n",
       "      <th>химшлак последний FeO</th>\n",
       "      <th>химшлак последний MgO</th>\n",
       "      <th>химшлак последний MnO</th>\n",
       "      <th>химшлак последний R</th>\n",
       "      <th>химшлак последний SiO2</th>\n",
       "    </tr>\n",
       "    <tr>\n",
       "      <th>nplv</th>\n",
       "      <th></th>\n",
       "      <th></th>\n",
       "      <th></th>\n",
       "      <th></th>\n",
       "      <th></th>\n",
       "      <th></th>\n",
       "      <th></th>\n",
       "      <th></th>\n",
       "      <th></th>\n",
       "      <th></th>\n",
       "      <th></th>\n",
       "      <th></th>\n",
       "      <th></th>\n",
       "      <th></th>\n",
       "      <th></th>\n",
       "      <th></th>\n",
       "      <th></th>\n",
       "      <th></th>\n",
       "      <th></th>\n",
       "      <th></th>\n",
       "      <th></th>\n",
       "    </tr>\n",
       "  </thead>\n",
       "  <tbody>\n",
       "    <tr>\n",
       "      <th>г683863&lt;887</th>\n",
       "      <td>2070-06-21 02:00:00</td>\n",
       "      <td>24.0</td>\n",
       "      <td>43.350000</td>\n",
       "      <td>17.950000</td>\n",
       "      <td>43.350000</td>\n",
       "      <td>NaN</td>\n",
       "      <td>0.331665</td>\n",
       "      <td>0.081490</td>\n",
       "      <td>0.132332</td>\n",
       "      <td>0.139860</td>\n",
       "      <td>...</td>\n",
       "      <td>0.12</td>\n",
       "      <td>2.6</td>\n",
       "      <td>0.0</td>\n",
       "      <td>NaN</td>\n",
       "      <td>57.2</td>\n",
       "      <td>0.5</td>\n",
       "      <td>8.1</td>\n",
       "      <td>0.13</td>\n",
       "      <td>2.3</td>\n",
       "      <td>NaN</td>\n",
       "    </tr>\n",
       "    <tr>\n",
       "      <th>г683863&lt;888</th>\n",
       "      <td>2070-06-21 02:58:00</td>\n",
       "      <td>17.0</td>\n",
       "      <td>46.183333</td>\n",
       "      <td>19.816667</td>\n",
       "      <td>46.183333</td>\n",
       "      <td>NaN</td>\n",
       "      <td>0.377945</td>\n",
       "      <td>0.133194</td>\n",
       "      <td>0.221605</td>\n",
       "      <td>0.165186</td>\n",
       "      <td>...</td>\n",
       "      <td>0.11</td>\n",
       "      <td>2.4</td>\n",
       "      <td>0.0</td>\n",
       "      <td>NaN</td>\n",
       "      <td>60.3</td>\n",
       "      <td>0.5</td>\n",
       "      <td>6.3</td>\n",
       "      <td>0.12</td>\n",
       "      <td>2.6</td>\n",
       "      <td>NaN</td>\n",
       "    </tr>\n",
       "    <tr>\n",
       "      <th>г683863&lt;978</th>\n",
       "      <td>2070-06-25 02:57:00</td>\n",
       "      <td>29.0</td>\n",
       "      <td>42.716667</td>\n",
       "      <td>16.683333</td>\n",
       "      <td>42.716667</td>\n",
       "      <td>2.623711</td>\n",
       "      <td>0.433500</td>\n",
       "      <td>0.113524</td>\n",
       "      <td>0.189868</td>\n",
       "      <td>0.133175</td>\n",
       "      <td>...</td>\n",
       "      <td>0.15</td>\n",
       "      <td>2.2</td>\n",
       "      <td>0.0</td>\n",
       "      <td>NaN</td>\n",
       "      <td>56.9</td>\n",
       "      <td>0.6</td>\n",
       "      <td>7.9</td>\n",
       "      <td>0.11</td>\n",
       "      <td>2.2</td>\n",
       "      <td>NaN</td>\n",
       "    </tr>\n",
       "    <tr>\n",
       "      <th>г683863&lt;979</th>\n",
       "      <td>2070-06-25 03:59:00</td>\n",
       "      <td>20.0</td>\n",
       "      <td>42.050000</td>\n",
       "      <td>18.716667</td>\n",
       "      <td>42.050000</td>\n",
       "      <td>2.692771</td>\n",
       "      <td>0.459085</td>\n",
       "      <td>0.124202</td>\n",
       "      <td>0.218667</td>\n",
       "      <td>0.192129</td>\n",
       "      <td>...</td>\n",
       "      <td>0.39</td>\n",
       "      <td>1.8</td>\n",
       "      <td>0.0</td>\n",
       "      <td>NaN</td>\n",
       "      <td>50.9</td>\n",
       "      <td>0.3</td>\n",
       "      <td>13.2</td>\n",
       "      <td>0.13</td>\n",
       "      <td>2.0</td>\n",
       "      <td>NaN</td>\n",
       "    </tr>\n",
       "    <tr>\n",
       "      <th>г683863&lt;97:</th>\n",
       "      <td>2070-06-25 04:52:00</td>\n",
       "      <td>23.0</td>\n",
       "      <td>41.666667</td>\n",
       "      <td>20.183333</td>\n",
       "      <td>41.666667</td>\n",
       "      <td>2.829225</td>\n",
       "      <td>0.454145</td>\n",
       "      <td>0.088234</td>\n",
       "      <td>0.182319</td>\n",
       "      <td>0.153034</td>\n",
       "      <td>...</td>\n",
       "      <td>0.20</td>\n",
       "      <td>2.3</td>\n",
       "      <td>0.0</td>\n",
       "      <td>NaN</td>\n",
       "      <td>49.0</td>\n",
       "      <td>1.0</td>\n",
       "      <td>12.6</td>\n",
       "      <td>0.20</td>\n",
       "      <td>2.2</td>\n",
       "      <td>NaN</td>\n",
       "    </tr>\n",
       "  </tbody>\n",
       "</table>\n",
       "<p>5 rows × 68 columns</p>\n",
       "</div>"
      ],
      "text/plain": [
       "                             DT  t вып-обр  t обработка  t под током  \\\n",
       "nplv                                                                   \n",
       "г683863<887 2070-06-21 02:00:00       24.0    43.350000    17.950000   \n",
       "г683863<888 2070-06-21 02:58:00       17.0    46.183333    19.816667   \n",
       "г683863<978 2070-06-25 02:57:00       29.0    42.716667    16.683333   \n",
       "г683863<979 2070-06-25 03:59:00       20.0    42.050000    18.716667   \n",
       "г683863<97: 2070-06-25 04:52:00       23.0    41.666667    20.183333   \n",
       "\n",
       "             t продувка   ПСН гр.  чист расход C  чист расход Cr  \\\n",
       "nplv                                                               \n",
       "г683863<887   43.350000       NaN       0.331665        0.081490   \n",
       "г683863<888   46.183333       NaN       0.377945        0.133194   \n",
       "г683863<978   42.716667  2.623711       0.433500        0.113524   \n",
       "г683863<979   42.050000  2.692771       0.459085        0.124202   \n",
       "г683863<97:   41.666667  2.829225       0.454145        0.088234   \n",
       "\n",
       "             чист расход Mn  чист расход Si  ...  химшлак первый MnO_1  \\\n",
       "nplv                                         ...                         \n",
       "г683863<887        0.132332        0.139860  ...                  0.12   \n",
       "г683863<888        0.221605        0.165186  ...                  0.11   \n",
       "г683863<978        0.189868        0.133175  ...                  0.15   \n",
       "г683863<979        0.218667        0.192129  ...                  0.39   \n",
       "г683863<97:        0.182319        0.153034  ...                  0.20   \n",
       "\n",
       "             химшлак первый R_1  химшлак первый SiO2_1  \\\n",
       "nplv                                                     \n",
       "г683863<887                 2.6                    0.0   \n",
       "г683863<888                 2.4                    0.0   \n",
       "г683863<978                 2.2                    0.0   \n",
       "г683863<979                 1.8                    0.0   \n",
       "г683863<97:                 2.3                    0.0   \n",
       "\n",
       "             химшлак последний Al2O3  химшлак последний CaO  \\\n",
       "nplv                                                          \n",
       "г683863<887                      NaN                   57.2   \n",
       "г683863<888                      NaN                   60.3   \n",
       "г683863<978                      NaN                   56.9   \n",
       "г683863<979                      NaN                   50.9   \n",
       "г683863<97:                      NaN                   49.0   \n",
       "\n",
       "             химшлак последний FeO  химшлак последний MgO  \\\n",
       "nplv                                                        \n",
       "г683863<887                    0.5                    8.1   \n",
       "г683863<888                    0.5                    6.3   \n",
       "г683863<978                    0.6                    7.9   \n",
       "г683863<979                    0.3                   13.2   \n",
       "г683863<97:                    1.0                   12.6   \n",
       "\n",
       "             химшлак последний MnO  химшлак последний R  \\\n",
       "nplv                                                      \n",
       "г683863<887                   0.13                  2.3   \n",
       "г683863<888                   0.12                  2.6   \n",
       "г683863<978                   0.11                  2.2   \n",
       "г683863<979                   0.13                  2.0   \n",
       "г683863<97:                   0.20                  2.2   \n",
       "\n",
       "             химшлак последний SiO2  \n",
       "nplv                                 \n",
       "г683863<887                     NaN  \n",
       "г683863<888                     NaN  \n",
       "г683863<978                     NaN  \n",
       "г683863<979                     NaN  \n",
       "г683863<97:                     NaN  \n",
       "\n",
       "[5 rows x 68 columns]"
      ]
     },
     "execution_count": 2,
     "metadata": {},
     "output_type": "execute_result"
    }
   ],
   "source": [
    "df = pd.read_csv('Очищенные данные.csv', sep=',', index_col=0, parse_dates=['DT'])\n",
    "df.head()"
   ]
  },
  {
   "cell_type": "code",
   "execution_count": 3,
   "metadata": {},
   "outputs": [
    {
     "data": {
      "text/plain": [
       "68"
      ]
     },
     "execution_count": 3,
     "metadata": {},
     "output_type": "execute_result"
    }
   ],
   "source": [
    "len(df.columns)"
   ]
  },
  {
   "cell_type": "markdown",
   "metadata": {},
   "source": [
    "## Feature Engineering"
   ]
  },
  {
   "cell_type": "code",
   "execution_count": 4,
   "metadata": {},
   "outputs": [],
   "source": [
    "pearson_corr = df.drop('DT', axis=1).corr(method='pearson', min_periods=50)\n",
    "pos_corr = np.abs(np.nan_to_num(pearson_corr.values, 0.0))\n",
    "strong_corr_pairs = []\n",
    "for i in range(1, len(pos_corr)):\n",
    "    if np.max(pos_corr[i, :i]) >= 0.8:\n",
    "        j = np.argmax(pos_corr[i, :i])\n",
    "        strong_corr_pairs.append((i, j, pearson_corr.values[i, j]))"
   ]
  },
  {
   "cell_type": "code",
   "execution_count": 5,
   "metadata": {},
   "outputs": [],
   "source": [
    "cols = df.drop('DT', axis=1).columns\n",
    "cols_dict = dict(list(zip(range(len(cols)), cols)))"
   ]
  },
  {
   "cell_type": "code",
   "execution_count": 6,
   "metadata": {},
   "outputs": [
    {
     "data": {
      "text/html": [
       "<div>\n",
       "<style scoped>\n",
       "    .dataframe tbody tr th:only-of-type {\n",
       "        vertical-align: middle;\n",
       "    }\n",
       "\n",
       "    .dataframe tbody tr th {\n",
       "        vertical-align: top;\n",
       "    }\n",
       "\n",
       "    .dataframe thead th {\n",
       "        text-align: right;\n",
       "    }\n",
       "</style>\n",
       "<table border=\"1\" class=\"dataframe\">\n",
       "  <thead>\n",
       "    <tr style=\"text-align: right;\">\n",
       "      <th></th>\n",
       "      <th>0</th>\n",
       "      <th>1</th>\n",
       "      <th>2</th>\n",
       "    </tr>\n",
       "  </thead>\n",
       "  <tbody>\n",
       "    <tr>\n",
       "      <th>5</th>\n",
       "      <td>ферспл SiMn18</td>\n",
       "      <td>чист расход Mn</td>\n",
       "      <td>0.998040</td>\n",
       "    </tr>\n",
       "    <tr>\n",
       "      <th>6</th>\n",
       "      <td>ферспл  фх850А</td>\n",
       "      <td>чист расход Cr</td>\n",
       "      <td>0.996654</td>\n",
       "    </tr>\n",
       "    <tr>\n",
       "      <th>0</th>\n",
       "      <td>t продувка</td>\n",
       "      <td>t обработка</td>\n",
       "      <td>0.996427</td>\n",
       "    </tr>\n",
       "    <tr>\n",
       "      <th>14</th>\n",
       "      <td>химсталь последний Ni</td>\n",
       "      <td>химсталь первый Ni_1</td>\n",
       "      <td>0.992914</td>\n",
       "    </tr>\n",
       "    <tr>\n",
       "      <th>12</th>\n",
       "      <td>химсталь последний Cu</td>\n",
       "      <td>химсталь первый Cu_1</td>\n",
       "      <td>0.989583</td>\n",
       "    </tr>\n",
       "    <tr>\n",
       "      <th>3</th>\n",
       "      <td>ферспл  FeV-80</td>\n",
       "      <td>чист расход V</td>\n",
       "      <td>0.982945</td>\n",
       "    </tr>\n",
       "    <tr>\n",
       "      <th>7</th>\n",
       "      <td>эл. энергия</td>\n",
       "      <td>t под током</td>\n",
       "      <td>0.961281</td>\n",
       "    </tr>\n",
       "    <tr>\n",
       "      <th>1</th>\n",
       "      <td>расход газ Ar</td>\n",
       "      <td>Ar (интенс.)</td>\n",
       "      <td>0.958868</td>\n",
       "    </tr>\n",
       "    <tr>\n",
       "      <th>15</th>\n",
       "      <td>химсталь последний P</td>\n",
       "      <td>химсталь первый P_1</td>\n",
       "      <td>0.956263</td>\n",
       "    </tr>\n",
       "    <tr>\n",
       "      <th>13</th>\n",
       "      <td>химсталь последний Mo</td>\n",
       "      <td>химсталь первый Mo_1</td>\n",
       "      <td>0.956114</td>\n",
       "    </tr>\n",
       "    <tr>\n",
       "      <th>2</th>\n",
       "      <td>сыпуч  кокс. мелочь КМ1</td>\n",
       "      <td>чист расход C</td>\n",
       "      <td>0.946047</td>\n",
       "    </tr>\n",
       "    <tr>\n",
       "      <th>4</th>\n",
       "      <td>ферспл  Mn5Si65Al0.5</td>\n",
       "      <td>чист расход Si</td>\n",
       "      <td>0.924853</td>\n",
       "    </tr>\n",
       "    <tr>\n",
       "      <th>16</th>\n",
       "      <td>химшлак первый SiO2_1</td>\n",
       "      <td>химшлак первый Al2O3_1</td>\n",
       "      <td>0.916615</td>\n",
       "    </tr>\n",
       "    <tr>\n",
       "      <th>11</th>\n",
       "      <td>химсталь первый Si_1</td>\n",
       "      <td>чист расход Si</td>\n",
       "      <td>-0.931770</td>\n",
       "    </tr>\n",
       "    <tr>\n",
       "      <th>8</th>\n",
       "      <td>химсталь первый C_1</td>\n",
       "      <td>чист расход C</td>\n",
       "      <td>-0.940890</td>\n",
       "    </tr>\n",
       "    <tr>\n",
       "      <th>9</th>\n",
       "      <td>химсталь первый Cr_1</td>\n",
       "      <td>чист расход Cr</td>\n",
       "      <td>-0.983948</td>\n",
       "    </tr>\n",
       "    <tr>\n",
       "      <th>10</th>\n",
       "      <td>химсталь первый Mn_1</td>\n",
       "      <td>ферспл SiMn18</td>\n",
       "      <td>-0.984517</td>\n",
       "    </tr>\n",
       "  </tbody>\n",
       "</table>\n",
       "</div>"
      ],
      "text/plain": [
       "                          0                       1         2\n",
       "5             ферспл SiMn18          чист расход Mn  0.998040\n",
       "6            ферспл  фх850А          чист расход Cr  0.996654\n",
       "0                t продувка             t обработка  0.996427\n",
       "14    химсталь последний Ni    химсталь первый Ni_1  0.992914\n",
       "12    химсталь последний Cu    химсталь первый Cu_1  0.989583\n",
       "3            ферспл  FeV-80           чист расход V  0.982945\n",
       "7               эл. энергия             t под током  0.961281\n",
       "1             расход газ Ar            Ar (интенс.)  0.958868\n",
       "15     химсталь последний P     химсталь первый P_1  0.956263\n",
       "13    химсталь последний Mo    химсталь первый Mo_1  0.956114\n",
       "2   сыпуч  кокс. мелочь КМ1           чист расход C  0.946047\n",
       "4      ферспл  Mn5Si65Al0.5          чист расход Si  0.924853\n",
       "16    химшлак первый SiO2_1  химшлак первый Al2O3_1  0.916615\n",
       "11     химсталь первый Si_1          чист расход Si -0.931770\n",
       "8       химсталь первый C_1           чист расход C -0.940890\n",
       "9      химсталь первый Cr_1          чист расход Cr -0.983948\n",
       "10     химсталь первый Mn_1           ферспл SiMn18 -0.984517"
      ]
     },
     "execution_count": 6,
     "metadata": {},
     "output_type": "execute_result"
    }
   ],
   "source": [
    "# сильно коррелирующие фичи\n",
    "strong_corr_df = pd.DataFrame(strong_corr_pairs).replace(cols_dict).sort_values(2, ascending=False)\n",
    "strong_corr_df"
   ]
  },
  {
   "cell_type": "code",
   "execution_count": 7,
   "metadata": {},
   "outputs": [],
   "source": [
    "cols_for_engineering = ['химсталь последний Ni',\n",
    "                        'химсталь последний Cu',\n",
    "                        'химсталь последний P',\n",
    "                        'химсталь последний Mo',\n",
    "                        'химшлак первый SiO2_1']\n",
    "corr_cols_to_drop = [col for col in strong_corr_df[0] if col not in cols_for_engineering]"
   ]
  },
  {
   "cell_type": "code",
   "execution_count": 8,
   "metadata": {},
   "outputs": [],
   "source": [
    "df.drop(corr_cols_to_drop, axis=1, inplace=True)"
   ]
  },
  {
   "cell_type": "code",
   "execution_count": 9,
   "metadata": {},
   "outputs": [
    {
     "data": {
      "text/plain": [
       "array([['химсталь последний Ni', 'химсталь первый Ni_1'],\n",
       "       ['химсталь последний Cu', 'химсталь первый Cu_1'],\n",
       "       ['химсталь последний P', 'химсталь первый P_1'],\n",
       "       ['химсталь последний Mo', 'химсталь первый Mo_1'],\n",
       "       ['химшлак первый SiO2_1', 'химшлак первый Al2O3_1']], dtype=object)"
      ]
     },
     "execution_count": 9,
     "metadata": {},
     "output_type": "execute_result"
    }
   ],
   "source": [
    "pairs = strong_corr_df[strong_corr_df[0].isin(cols_for_engineering)][[0,1]].values\n",
    "pairs"
   ]
  },
  {
   "cell_type": "code",
   "execution_count": 10,
   "metadata": {},
   "outputs": [
    {
     "data": {
      "image/png": "[encoded data removed]",
      "text/plain": [
       "<Figure size 864x144 with 1 Axes>"
      ]
     },
     "metadata": {
      "needs_background": "light"
     },
     "output_type": "display_data"
    },
    {
     "data": {
      "image/png": "[encoded data removed]",
      "text/plain": [
       "<Figure size 864x144 with 1 Axes>"
      ]
     },
     "metadata": {
      "needs_background": "light"
     },
     "output_type": "display_data"
    },
    {
     "data": {
      "image/png": "[encoded data removed]",
      "text/plain": [
       "<Figure size 864x144 with 1 Axes>"
      ]
     },
     "metadata": {
      "needs_background": "light"
     },
     "output_type": "display_data"
    },
    {
     "data": {
      "image/png": "[encoded data removed]",
      "text/plain": [
       "<Figure size 864x144 with 1 Axes>"
      ]
     },
     "metadata": {
      "needs_background": "light"
     },
     "output_type": "display_data"
    },
    {
     "data": {
      "image/png": "[encoded data removed]",
      "text/plain": [
       "<Figure size 864x144 with 1 Axes>"
      ]
     },
     "metadata": {
      "needs_background": "light"
     },
     "output_type": "display_data"
    }
   ],
   "source": [
    "for pair in pairs:\n",
    "    fig = plt.figure(figsize=(12, 2))\n",
    "    sns.boxplot(data=df[pair], orient='h')"
   ]
  },
  {
   "cell_type": "markdown",
   "metadata": {},
   "source": [
    "Колонки с Ni и Cu можно убрать."
   ]
  },
  {
   "cell_type": "code",
   "execution_count": 11,
   "metadata": {},
   "outputs": [],
   "source": [
    "df.drop(['химсталь первый Cu_1', 'химсталь первый Ni_1'], axis=1, inplace=True)"
   ]
  },
  {
   "cell_type": "code",
   "execution_count": 12,
   "metadata": {},
   "outputs": [],
   "source": [
    "pairs = np.delete(pairs, 0, axis=0) # ['химсталь последний Ni', 'химсталь первый Ni_1']\n",
    "pairs = np.delete(pairs, 0, axis=0) # ['химсталь последний Cu', 'химсталь первый Cu_1']"
   ]
  },
  {
   "cell_type": "markdown",
   "metadata": {},
   "source": [
    "Попробуем отношение."
   ]
  },
  {
   "cell_type": "code",
   "execution_count": 13,
   "metadata": {},
   "outputs": [],
   "source": [
    "def safe_division(x, y):\n",
    "    if (x != x) | (y != y) | (y == 0):\n",
    "        return np.nan\n",
    "    return x / y\n",
    "\n",
    "for pair in pairs:\n",
    "    new_col = pair[0]+'_'+pair[1]+'_ratio'\n",
    "    df[new_col] = df.apply(lambda x: safe_division(x[pair[0]],x[pair[1]]), axis=1)"
   ]
  },
  {
   "cell_type": "markdown",
   "metadata": {},
   "source": [
    "## Feature Importance"
   ]
  },
  {
   "cell_type": "code",
   "execution_count": 16,
   "metadata": {},
   "outputs": [],
   "source": [
    "TARGETS = ['химшлак последний Al2O3', 'химшлак последний CaO',\n",
    "           'химшлак последний R', 'химшлак последний SiO2']"
   ]
  },
  {
   "cell_type": "code",
   "execution_count": 18,
   "metadata": {},
   "outputs": [],
   "source": [
    "df.drop('DT', axis=1, inplace=True) # не понадобится, скорее всего"
   ]
  },
  {
   "cell_type": "code",
   "execution_count": 19,
   "metadata": {},
   "outputs": [],
   "source": [
    "for col in df.columns:\n",
    "    if df[col].nunique() <= 50:\n",
    "        df[col] = df[col].astype('category')"
   ]
  },
  {
   "cell_type": "code",
   "execution_count": 20,
   "metadata": {},
   "outputs": [],
   "source": [
    "NUMERICAL = df.select_dtypes(exclude=['category', 'object', 'datetime64']).columns.tolist()\n",
    "ORDINAL = df.select_dtypes(include=['category']).columns.tolist()\n",
    "for tar in TARGETS:\n",
    "    if tar in NUMERICAL:\n",
    "        NUMERICAL.remove(tar)"
   ]
  },
  {
   "cell_type": "markdown",
   "metadata": {},
   "source": [
    "#### Correlations"
   ]
  },
  {
   "cell_type": "code",
   "execution_count": 41,
   "metadata": {},
   "outputs": [],
   "source": [
    "correlations = dict()\n",
    "\n",
    "for tar in TARGETS:\n",
    "    correlations[tar] = dict()\n",
    "    for col in NUMERICAL:\n",
    "        correlations[tar][col] = df[col].corr(df[tar])"
   ]
  },
  {
   "cell_type": "code",
   "execution_count": 55,
   "metadata": {},
   "outputs": [
    {
     "data": {
      "text/html": [
       "<div>\n",
       "<style scoped>\n",
       "    .dataframe tbody tr th:only-of-type {\n",
       "        vertical-align: middle;\n",
       "    }\n",
       "\n",
       "    .dataframe tbody tr th {\n",
       "        vertical-align: top;\n",
       "    }\n",
       "\n",
       "    .dataframe thead th {\n",
       "        text-align: right;\n",
       "    }\n",
       "</style>\n",
       "<table border=\"1\" class=\"dataframe\">\n",
       "  <thead>\n",
       "    <tr style=\"text-align: right;\">\n",
       "      <th></th>\n",
       "      <th>химшлак последний Al2O3</th>\n",
       "      <th>химшлак последний CaO</th>\n",
       "      <th>химшлак последний R</th>\n",
       "      <th>химшлак последний SiO2</th>\n",
       "    </tr>\n",
       "  </thead>\n",
       "  <tbody>\n",
       "    <tr>\n",
       "      <th>чист расход C</th>\n",
       "      <td>0.342188</td>\n",
       "      <td>-0.168741</td>\n",
       "      <td>-0.152759</td>\n",
       "      <td>-0.028422</td>\n",
       "    </tr>\n",
       "    <tr>\n",
       "      <th>чист расход Mn</th>\n",
       "      <td>-0.208593</td>\n",
       "      <td>-0.161149</td>\n",
       "      <td>-0.355493</td>\n",
       "      <td>0.261351</td>\n",
       "    </tr>\n",
       "    <tr>\n",
       "      <th>чист расход Si</th>\n",
       "      <td>-0.279295</td>\n",
       "      <td>-0.215806</td>\n",
       "      <td>-0.406475</td>\n",
       "      <td>0.290977</td>\n",
       "    </tr>\n",
       "    <tr>\n",
       "      <th>химшлак первый CaO_1</th>\n",
       "      <td>0.137585</td>\n",
       "      <td>0.306580</td>\n",
       "      <td>0.353618</td>\n",
       "      <td>-0.134561</td>\n",
       "    </tr>\n",
       "    <tr>\n",
       "      <th>химшлак первый MgO_1</th>\n",
       "      <td>-0.194052</td>\n",
       "      <td>-0.304754</td>\n",
       "      <td>-0.386062</td>\n",
       "      <td>0.219280</td>\n",
       "    </tr>\n",
       "    <tr>\n",
       "      <th>химшлак первый SiO2_1</th>\n",
       "      <td>-0.281995</td>\n",
       "      <td>-0.064292</td>\n",
       "      <td>0.014975</td>\n",
       "      <td>0.324356</td>\n",
       "    </tr>\n",
       "    <tr>\n",
       "      <th>химшлак последний MgO</th>\n",
       "      <td>-0.249199</td>\n",
       "      <td>-0.399977</td>\n",
       "      <td>-0.512202</td>\n",
       "      <td>0.291733</td>\n",
       "    </tr>\n",
       "    <tr>\n",
       "      <th>химшлак первый SiO2_1_химшлак первый Al2O3_1_ratio</th>\n",
       "      <td>-0.656790</td>\n",
       "      <td>0.027156</td>\n",
       "      <td>-0.277064</td>\n",
       "      <td>0.314707</td>\n",
       "    </tr>\n",
       "  </tbody>\n",
       "</table>\n",
       "</div>"
      ],
      "text/plain": [
       "                                                    химшлак последний Al2O3  \\\n",
       "чист расход C                                                      0.342188   \n",
       "чист расход Mn                                                    -0.208593   \n",
       "чист расход Si                                                    -0.279295   \n",
       "химшлак первый CaO_1                                               0.137585   \n",
       "химшлак первый MgO_1                                              -0.194052   \n",
       "химшлак первый SiO2_1                                             -0.281995   \n",
       "химшлак последний MgO                                             -0.249199   \n",
       "химшлак первый SiO2_1_химшлак первый Al2O3_1_ratio                -0.656790   \n",
       "\n",
       "                                                    химшлак последний CaO  \\\n",
       "чист расход C                                                   -0.168741   \n",
       "чист расход Mn                                                  -0.161149   \n",
       "чист расход Si                                                  -0.215806   \n",
       "химшлак первый CaO_1                                             0.306580   \n",
       "химшлак первый MgO_1                                            -0.304754   \n",
       "химшлак первый SiO2_1                                           -0.064292   \n",
       "химшлак последний MgO                                           -0.399977   \n",
       "химшлак первый SiO2_1_химшлак первый Al2O3_1_ratio               0.027156   \n",
       "\n",
       "                                                    химшлак последний R  \\\n",
       "чист расход C                                                 -0.152759   \n",
       "чист расход Mn                                                -0.355493   \n",
       "чист расход Si                                                -0.406475   \n",
       "химшлак первый CaO_1                                           0.353618   \n",
       "химшлак первый MgO_1                                          -0.386062   \n",
       "химшлак первый SiO2_1                                          0.014975   \n",
       "химшлак последний MgO                                         -0.512202   \n",
       "химшлак первый SiO2_1_химшлак первый Al2O3_1_ratio            -0.277064   \n",
       "\n",
       "                                                    химшлак последний SiO2  \n",
       "чист расход C                                                    -0.028422  \n",
       "чист расход Mn                                                    0.261351  \n",
       "чист расход Si                                                    0.290977  \n",
       "химшлак первый CaO_1                                             -0.134561  \n",
       "химшлак первый MgO_1                                              0.219280  \n",
       "химшлак первый SiO2_1                                             0.324356  \n",
       "химшлак последний MgO                                             0.291733  \n",
       "химшлак первый SiO2_1_химшлак первый Al2O3_1_ratio                0.314707  "
      ]
     },
     "execution_count": 55,
     "metadata": {},
     "output_type": "execute_result"
    }
   ],
   "source": [
    "corrs = pd.DataFrame(correlations)\n",
    "corrs[(abs(corrs) > 0.3).any(1)]"
   ]
  },
  {
   "cell_type": "code",
   "execution_count": 56,
   "metadata": {},
   "outputs": [],
   "source": [
    "golden_features = list(corrs[(abs(corrs) > 0.3).any(1)].index)"
   ]
  },
  {
   "cell_type": "markdown",
   "metadata": {},
   "source": [
    "#### Imputter"
   ]
  },
  {
   "cell_type": "code",
   "execution_count": 57,
   "metadata": {},
   "outputs": [],
   "source": [
    "for col in NUMERICAL:\n",
    "    df[col] = df[col].fillna(df[col].mean())"
   ]
  },
  {
   "cell_type": "code",
   "execution_count": 60,
   "metadata": {},
   "outputs": [],
   "source": [
    "for col in ORDINAL:\n",
    "    df[col] = df[col].fillna(df[col].mode())"
   ]
  },
  {
   "cell_type": "markdown",
   "metadata": {},
   "source": [
    "#### Lasso"
   ]
  },
  {
   "cell_type": "code",
   "execution_count": 66,
   "metadata": {},
   "outputs": [],
   "source": [
    "data = df.dropna().astype(float)\n",
    "data = (data - data.mean()) / (data.std() + 0.0001)"
   ]
  },
  {
   "cell_type": "code",
   "execution_count": 70,
   "metadata": {},
   "outputs": [],
   "source": [
    "x_train, x_test, y_train, y_test = train_test_split(\n",
    "    data.drop(columns = TARGETS),\n",
    "    data[TARGETS],\n",
    "    test_size=0.3,\n",
    "    shuffle = True)"
   ]
  },
  {
   "cell_type": "code",
   "execution_count": 72,
   "metadata": {},
   "outputs": [
    {
     "data": {
      "text/plain": [
       "Lasso(alpha=0.07)"
      ]
     },
     "execution_count": 72,
     "metadata": {},
     "output_type": "execute_result"
    }
   ],
   "source": [
    "clf = linear_model.Lasso(alpha=0.07)\n",
    "clf.fit(x_train, y_train)"
   ]
  },
  {
   "cell_type": "code",
   "execution_count": 78,
   "metadata": {},
   "outputs": [
    {
     "name": "stdout",
     "output_type": "stream",
     "text": [
      "химшлак последний Al2O3\n",
      "['чист расход C' 'чист расход Mn' 'чист расход Si'\n",
      " 'химшлак первый Al2O3_1' 'химшлак первый R_1' 'химшлак последний FeO'\n",
      " 'химшлак последний MgO' 'химшлак последний MnO'\n",
      " 'химшлак первый SiO2_1_химшлак первый Al2O3_1_ratio']\n",
      "химшлак последний CaO\n",
      "['чист расход C' 'химсталь последний Cu' 'химшлак первый Al2O3_1'\n",
      " 'химшлак первый CaO_1' 'химшлак первый R_1' 'химшлак последний FeO'\n",
      " 'химшлак последний MgO']\n",
      "химшлак последний R\n",
      "['чист расход Mn' 'чист расход Si' 'химшлак первый R_1'\n",
      " 'химшлак последний MgO' 'химшлак последний MnO']\n",
      "химшлак последний SiO2\n",
      "['t под током' 'чист расход Mn' 'чист расход Si' 'химсталь первый N_1'\n",
      " 'химсталь последний N' 'химшлак первый R_1' 'химшлак первый SiO2_1'\n",
      " 'химшлак последний FeO' 'химшлак последний MgO' 'химшлак последний MnO'\n",
      " 'химшлак первый SiO2_1_химшлак первый Al2O3_1_ratio']\n"
     ]
    }
   ],
   "source": [
    "names = df.drop(columns = TARGETS).columns\n",
    "for i,m in enumerate(clf.coef_):\n",
    "    print(TARGETS[i])\n",
    "    print(names[np.where(m != 0)].values)"
   ]
  },
  {
   "cell_type": "markdown",
   "metadata": {},
   "source": [
    "#### Random Forest"
   ]
  },
  {
   "cell_type": "code",
   "execution_count": 85,
   "metadata": {},
   "outputs": [
    {
     "name": "stdout",
     "output_type": "stream",
     "text": [
      "Feature ranking for химшлак последний Al2O3:\n",
      "1.\t химшлак первый SiO2_1_химшлак первый Al2O3_1_ratio (0.422354)\n",
      "2.\t химшлак первый Al2O3_1 (0.080593)\n",
      "3.\t химшлак последний MnO (0.060798)\n",
      "4.\t чист расход C (0.034879)\n",
      "5.\t химшлак первый MgO_1 (0.019247)\n",
      "6.\t химшлак последний MgO (0.018494)\n",
      "7.\t химшлак первый CaO_1 (0.016668)\n",
      "8.\t чист расход Mn (0.013704)\n",
      "9.\t чист расход Si (0.013336)\n",
      "10.\t температура первая (0.012429)\n",
      "11.\t чист расход Cr (0.012365)\n",
      "12.\t t под током (0.012089)\n",
      "13.\t t вып-обр (0.011810)\n",
      "14.\t химшлак первый MnO_1 (0.011763)\n",
      "15.\t химсталь последний Si (0.011179)\n",
      "16.\t химшлак первый SiO2_1 (0.011171)\n",
      "17.\t сыпуч  шпат плав. (0.011130)\n",
      "18.\t чист расход V (0.011079)\n",
      "19.\t химсталь последний C (0.011019)\n",
      "20.\t t обработка (0.010885)\n",
      "21.\t Ar (интенс.) (0.010868)\n",
      "22.\t эл. энергия (интенс.) (0.010858)\n",
      "23.\t произв жидкая сталь (0.010283)\n",
      "24.\t химсталь последний Mn (0.010061)\n",
      "25.\t химсталь последний Cu (0.009859)\n",
      "26.\t температура последняя (0.009821)\n",
      "27.\t химшлак последний FeO (0.009656)\n",
      "28.\t химсталь последний Ni (0.009572)\n",
      "29.\t сыпуч известь РП (0.008924)\n",
      "30.\t химшлак первый FeO_1 (0.008681)\n",
      "31.\t химсталь последний N (0.007817)\n",
      "32.\t ПСН гр. (0.007735)\n",
      "33.\t химсталь первый N_1 (0.007572)\n",
      "34.\t химсталь последний P_химсталь первый P_1_ratio (0.007548)\n",
      "35.\t химсталь последний Mo (0.006628)\n",
      "36.\t химсталь последний Cr (0.006543)\n",
      "37.\t химсталь первый S_1 (0.006465)\n",
      "38.\t химшлак первый R_1 (0.006414)\n",
      "39.\t химсталь последний S (0.005628)\n",
      "40.\t химсталь последний Ca (0.005147)\n",
      "41.\t химсталь последний P (0.003675)\n",
      "42.\t химсталь последний Mo_химсталь первый Mo_1_ratio (0.003544)\n",
      "43.\t химсталь первый P_1 (0.003527)\n",
      "44.\t химсталь первый Mo_1 (0.003444)\n",
      "45.\t химсталь последний V (0.003227)\n",
      "46.\t химсталь последний Al (0.002757)\n",
      "47.\t сыпуч кокс пыль УСТК (0.002077)\n",
      "48.\t химсталь первый V_1 (0.001607)\n",
      "49.\t химсталь последний Ti (0.001169)\n",
      "50.\t химсталь первый Ti_1 (0.000913)\n",
      "51.\t химсталь первый Al_1 (0.000868)\n",
      "52.\t ферспл CaC2 (0.000121)\n",
      "\n",
      "Feature ranking for химшлак последний CaO:\n",
      "1.\t химшлак последний MgO (0.182845)\n",
      "2.\t химшлак первый CaO_1 (0.068012)\n",
      "3.\t чист расход C (0.046344)\n",
      "4.\t чист расход V (0.031307)\n",
      "5.\t эл. энергия (интенс.) (0.028472)\n",
      "6.\t t под током (0.025425)\n",
      "7.\t химшлак последний MnO (0.024520)\n",
      "8.\t сыпуч известь РП (0.024475)\n",
      "9.\t химшлак первый SiO2_1_химшлак первый Al2O3_1_ratio (0.024464)\n",
      "10.\t Ar (интенс.) (0.023568)\n",
      "11.\t чист расход Mn (0.023227)\n",
      "12.\t химсталь последний Cu (0.022679)\n",
      "13.\t химшлак первый MgO_1 (0.021485)\n",
      "14.\t чист расход Si (0.021429)\n",
      "15.\t химшлак первый MnO_1 (0.020908)\n",
      "16.\t химшлак первый Al2O3_1 (0.020739)\n",
      "17.\t химсталь последний Si (0.020678)\n",
      "18.\t чист расход Cr (0.019443)\n",
      "19.\t t обработка (0.018816)\n",
      "20.\t температура первая (0.018769)\n",
      "21.\t сыпуч  шпат плав. (0.018734)\n",
      "22.\t химсталь последний C (0.018197)\n",
      "23.\t химсталь последний Mn (0.017369)\n",
      "24.\t химшлак первый R_1 (0.016804)\n",
      "25.\t t вып-обр (0.016369)\n",
      "26.\t химшлак последний FeO (0.015397)\n",
      "27.\t химшлак первый SiO2_1 (0.015302)\n",
      "28.\t температура последняя (0.015134)\n",
      "29.\t произв жидкая сталь (0.015129)\n",
      "30.\t химсталь последний Ni (0.014764)\n",
      "31.\t ПСН гр. (0.014443)\n",
      "32.\t химсталь последний S (0.013354)\n",
      "33.\t химсталь первый S_1 (0.013312)\n",
      "34.\t химшлак первый FeO_1 (0.013163)\n",
      "35.\t химсталь последний Cr (0.010280)\n",
      "36.\t химсталь последний P_химсталь первый P_1_ratio (0.009751)\n",
      "37.\t химсталь последний N (0.008134)\n",
      "38.\t химсталь последний Ca (0.007079)\n",
      "39.\t химсталь первый N_1 (0.006754)\n",
      "40.\t химсталь последний Mo_химсталь первый Mo_1_ratio (0.006751)\n",
      "41.\t химсталь первый Mo_1 (0.006552)\n",
      "42.\t химсталь последний P (0.006546)\n",
      "43.\t химсталь последний V (0.006409)\n",
      "44.\t химсталь последний Mo (0.006083)\n",
      "45.\t химсталь первый V_1 (0.004762)\n",
      "46.\t химсталь первый P_1 (0.004460)\n",
      "47.\t химсталь последний Ti (0.003317)\n",
      "48.\t химсталь последний Al (0.002713)\n",
      "49.\t химсталь первый Al_1 (0.002614)\n",
      "50.\t химсталь первый Ti_1 (0.001619)\n",
      "51.\t сыпуч кокс пыль УСТК (0.000831)\n",
      "52.\t ферспл CaC2 (0.000271)\n",
      "\n",
      "Feature ranking for химшлак последний R:\n",
      "1.\t химшлак первый R_1 (0.279311)\n",
      "2.\t химшлак последний MnO (0.178395)\n",
      "3.\t химшлак последний MgO (0.090593)\n",
      "4.\t чист расход Mn (0.023501)\n",
      "5.\t чист расход Si (0.022075)\n",
      "6.\t чист расход V (0.018664)\n",
      "7.\t чист расход C (0.015847)\n",
      "8.\t химшлак первый MgO_1 (0.015243)\n",
      "9.\t химшлак последний FeO (0.014056)\n",
      "10.\t химшлак первый CaO_1 (0.013925)\n",
      "11.\t химшлак первый SiO2_1_химшлак первый Al2O3_1_ratio (0.013337)\n",
      "12.\t чист расход Cr (0.013248)\n",
      "13.\t химсталь последний C (0.013237)\n",
      "14.\t эл. энергия (интенс.) (0.013209)\n",
      "15.\t химшлак первый SiO2_1 (0.012788)\n",
      "16.\t температура первая (0.012732)\n",
      "17.\t сыпуч известь РП (0.012647)\n",
      "18.\t сыпуч  шпат плав. (0.012640)\n",
      "19.\t химсталь последний Cu (0.012558)\n",
      "20.\t Ar (интенс.) (0.012373)\n",
      "21.\t t под током (0.012276)\n",
      "22.\t химсталь последний Mn (0.012050)\n",
      "23.\t химсталь последний Si (0.011557)\n",
      "24.\t t вып-обр (0.011433)\n",
      "25.\t t обработка (0.011169)\n",
      "26.\t температура последняя (0.010648)\n",
      "27.\t химшлак первый MnO_1 (0.010054)\n",
      "28.\t произв жидкая сталь (0.009733)\n",
      "29.\t химшлак первый Al2O3_1 (0.009392)\n",
      "30.\t ПСН гр. (0.009129)\n",
      "31.\t химсталь последний Ni (0.008581)\n",
      "32.\t химсталь последний Cr (0.007787)\n",
      "33.\t химшлак первый FeO_1 (0.007270)\n",
      "34.\t химсталь первый S_1 (0.007144)\n",
      "35.\t химсталь последний P_химсталь первый P_1_ratio (0.007019)\n",
      "36.\t химсталь последний N (0.005934)\n",
      "37.\t химсталь первый N_1 (0.005913)\n",
      "38.\t химсталь последний S (0.005631)\n",
      "39.\t химсталь последний Ca (0.004968)\n",
      "40.\t химсталь последний P (0.004479)\n",
      "41.\t химсталь первый Mo_1 (0.004352)\n",
      "42.\t химсталь первый P_1 (0.004198)\n",
      "43.\t химсталь последний Mo_химсталь первый Mo_1_ratio (0.003897)\n",
      "44.\t химсталь последний V (0.003698)\n",
      "45.\t химсталь последний Mo (0.003322)\n",
      "46.\t химсталь первый V_1 (0.002340)\n",
      "47.\t химсталь последний Al (0.001515)\n",
      "48.\t химсталь первый Al_1 (0.001410)\n",
      "49.\t химсталь первый Ti_1 (0.001089)\n",
      "50.\t химсталь последний Ti (0.000919)\n",
      "51.\t сыпуч кокс пыль УСТК (0.000676)\n",
      "52.\t ферспл CaC2 (0.000038)\n",
      "\n",
      "Feature ranking for химшлак последний SiO2:\n",
      "1.\t химшлак последний MnO (0.153293)\n",
      "2.\t химшлак первый R_1 (0.084658)\n",
      "3.\t химшлак первый SiO2_1_химшлак первый Al2O3_1_ratio (0.057459)\n",
      "4.\t чист расход Mn (0.037437)\n",
      "5.\t химшлак первый SiO2_1 (0.034612)\n",
      "6.\t химшлак последний MgO (0.031610)\n",
      "7.\t эл. энергия (интенс.) (0.025718)\n",
      "8.\t химшлак последний FeO (0.024597)\n",
      "9.\t t под током (0.024510)\n",
      "10.\t Ar (интенс.) (0.022610)\n",
      "11.\t чист расход V (0.022565)\n",
      "12.\t химшлак первый CaO_1 (0.021755)\n",
      "13.\t сыпуч известь РП (0.021290)\n",
      "14.\t чист расход Si (0.020690)\n",
      "15.\t чист расход C (0.020216)\n",
      "16.\t сыпуч  шпат плав. (0.019932)\n",
      "17.\t химсталь последний C (0.019790)\n",
      "18.\t температура первая (0.018790)\n",
      "19.\t чист расход Cr (0.018146)\n",
      "20.\t ПСН гр. (0.018065)\n",
      "21.\t t обработка (0.017598)\n",
      "22.\t t вып-обр (0.016832)\n",
      "23.\t химсталь последний Cu (0.016619)\n",
      "24.\t химшлак первый MgO_1 (0.016572)\n",
      "25.\t химсталь последний Si (0.016400)\n",
      "26.\t химсталь последний Mn (0.015932)\n",
      "27.\t температура последняя (0.015679)\n",
      "28.\t химшлак первый MnO_1 (0.015653)\n",
      "29.\t произв жидкая сталь (0.015038)\n",
      "30.\t химсталь последний Ni (0.013172)\n",
      "31.\t химшлак первый Al2O3_1 (0.012370)\n",
      "32.\t химшлак первый FeO_1 (0.011969)\n",
      "33.\t химсталь последний Cr (0.010982)\n",
      "34.\t химсталь последний P_химсталь первый P_1_ratio (0.010300)\n",
      "35.\t химсталь последний S (0.009986)\n",
      "36.\t химсталь первый S_1 (0.009805)\n",
      "37.\t химсталь последний N (0.009784)\n",
      "38.\t химсталь первый N_1 (0.007944)\n",
      "39.\t химсталь последний Ca (0.007555)\n",
      "40.\t химсталь последний V (0.006973)\n",
      "41.\t химсталь последний P (0.006635)\n",
      "42.\t химсталь первый P_1 (0.006424)\n",
      "43.\t химсталь последний Mo_химсталь первый Mo_1_ratio (0.005795)\n",
      "44.\t химсталь первый Mo_1 (0.005157)\n",
      "45.\t химсталь первый V_1 (0.005098)\n",
      "46.\t химсталь последний Mo (0.004934)\n",
      "47.\t химсталь первый Al_1 (0.002615)\n",
      "48.\t химсталь последний Al (0.002458)\n",
      "49.\t химсталь первый Ti_1 (0.002055)\n",
      "50.\t химсталь последний Ti (0.002014)\n",
      "51.\t сыпуч кокс пыль УСТК (0.001503)\n",
      "52.\t ферспл CaC2 (0.000407)\n",
      "\n"
     ]
    }
   ],
   "source": [
    "cols = data.columns\n",
    "for tar in TARGETS:\n",
    "    forest = RandomForestRegressor(n_estimators=100,\n",
    "                                   oob_score = True,\n",
    "                                   bootstrap = True,\n",
    "                                   random_state=42)\n",
    "    forest.fit(data.drop(columns = TARGETS), data[tar])\n",
    "    importances = forest.feature_importances_\n",
    "    indices = np.argsort(importances)[::-1]\n",
    "    print(\"Feature ranking for {}:\".format(tar))\n",
    "    for f in range(data.shape[1] - len(TARGETS)):\n",
    "        print(\"%d.\\t %s (%f)\" % (f + 1, names[indices[f]], importances[indices[f]]))\n",
    "    print()"
   ]
  },
  {
   "cell_type": "code",
   "execution_count": null,
   "metadata": {},
   "outputs": [],
   "source": []
  },
  {
   "cell_type": "markdown",
   "metadata": {},
   "source": [
    "## Model"
   ]
  },
  {
   "cell_type": "code",
   "execution_count": null,
   "metadata": {},
   "outputs": [],
   "source": []
  }
 ],
 "metadata": {
  "kernelspec": {
   "display_name": "Python 3",
   "language": "python",
   "name": "python3"
  },
  "language_info": {
   "codemirror_mode": {
    "name": "ipython",
    "version": 3
   },
   "file_extension": ".py",
   "mimetype": "text/x-python",
   "name": "python",
   "nbconvert_exporter": "python",
   "pygments_lexer": "ipython3",
   "version": "3.7.9"
  }
 },
 "nbformat": 4,
 "nbformat_minor": 4
}
