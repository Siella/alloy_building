{
 "cells": [
  {
   "cell_type": "markdown",
   "metadata": {},
   "source": [
    "## Imports"
   ]
  },
  {
   "cell_type": "code",
   "execution_count": 1,
   "metadata": {},
   "outputs": [],
   "source": [
    "import numpy as np\n",
    "import pandas as pd\n",
    "import seaborn as sns\n",
    "import scipy.stats as st\n",
    "import matplotlib.pyplot as plt\n",
    "\n",
    "from sklearn import linear_model\n",
    "from sklearn.model_selection import KFold, train_test_split\n",
    "from sklearn.ensemble import RandomForestRegressor"
   ]
  },
  {
   "cell_type": "markdown",
   "metadata": {},
   "source": [
    "## Данные"
   ]
  },
  {
   "cell_type": "code",
   "execution_count": 2,
   "metadata": {},
   "outputs": [
    {
     "data": {
      "text/html": [
       "<div>\n",
       "<style scoped>\n",
       "    .dataframe tbody tr th:only-of-type {\n",
       "        vertical-align: middle;\n",
       "    }\n",
       "\n",
       "    .dataframe tbody tr th {\n",
       "        vertical-align: top;\n",
       "    }\n",
       "\n",
       "    .dataframe thead th {\n",
       "        text-align: right;\n",
       "    }\n",
       "</style>\n",
       "<table border=\"1\" class=\"dataframe\">\n",
       "  <thead>\n",
       "    <tr style=\"text-align: right;\">\n",
       "      <th></th>\n",
       "      <th>DT</th>\n",
       "      <th>t вып-обр</th>\n",
       "      <th>t обработка</th>\n",
       "      <th>t под током</th>\n",
       "      <th>t продувка</th>\n",
       "      <th>ПСН гр.</th>\n",
       "      <th>чист расход C</th>\n",
       "      <th>чист расход Cr</th>\n",
       "      <th>чист расход Mn</th>\n",
       "      <th>чист расход Si</th>\n",
       "      <th>...</th>\n",
       "      <th>химшлак первый MnO_1</th>\n",
       "      <th>химшлак первый R_1</th>\n",
       "      <th>химшлак первый SiO2_1</th>\n",
       "      <th>химшлак последний Al2O3</th>\n",
       "      <th>химшлак последний CaO</th>\n",
       "      <th>химшлак последний FeO</th>\n",
       "      <th>химшлак последний MgO</th>\n",
       "      <th>химшлак последний MnO</th>\n",
       "      <th>химшлак последний R</th>\n",
       "      <th>химшлак последний SiO2</th>\n",
       "    </tr>\n",
       "    <tr>\n",
       "      <th>nplv</th>\n",
       "      <th></th>\n",
       "      <th></th>\n",
       "      <th></th>\n",
       "      <th></th>\n",
       "      <th></th>\n",
       "      <th></th>\n",
       "      <th></th>\n",
       "      <th></th>\n",
       "      <th></th>\n",
       "      <th></th>\n",
       "      <th></th>\n",
       "      <th></th>\n",
       "      <th></th>\n",
       "      <th></th>\n",
       "      <th></th>\n",
       "      <th></th>\n",
       "      <th></th>\n",
       "      <th></th>\n",
       "      <th></th>\n",
       "      <th></th>\n",
       "      <th></th>\n",
       "    </tr>\n",
       "  </thead>\n",
       "  <tbody>\n",
       "    <tr>\n",
       "      <th>г6837?3&lt;87?</th>\n",
       "      <td>2070-06-21 00:14:00</td>\n",
       "      <td>29.0</td>\n",
       "      <td>45.366667</td>\n",
       "      <td>24.400000</td>\n",
       "      <td>41.033333</td>\n",
       "      <td>NaN</td>\n",
       "      <td>0.456460</td>\n",
       "      <td>0.059572</td>\n",
       "      <td>0.117446</td>\n",
       "      <td>0.104762</td>\n",
       "      <td>...</td>\n",
       "      <td>0.12</td>\n",
       "      <td>2.6</td>\n",
       "      <td>0.0</td>\n",
       "      <td>NaN</td>\n",
       "      <td>53.4</td>\n",
       "      <td>1.0</td>\n",
       "      <td>5.8</td>\n",
       "      <td>0.15</td>\n",
       "      <td>2.6</td>\n",
       "      <td>NaN</td>\n",
       "    </tr>\n",
       "    <tr>\n",
       "      <th>г683863&lt;887</th>\n",
       "      <td>2070-06-21 02:00:00</td>\n",
       "      <td>24.0</td>\n",
       "      <td>43.350000</td>\n",
       "      <td>17.950000</td>\n",
       "      <td>43.350000</td>\n",
       "      <td>NaN</td>\n",
       "      <td>0.331665</td>\n",
       "      <td>0.081490</td>\n",
       "      <td>0.132332</td>\n",
       "      <td>0.139860</td>\n",
       "      <td>...</td>\n",
       "      <td>0.12</td>\n",
       "      <td>2.6</td>\n",
       "      <td>0.0</td>\n",
       "      <td>NaN</td>\n",
       "      <td>57.2</td>\n",
       "      <td>0.5</td>\n",
       "      <td>8.1</td>\n",
       "      <td>0.13</td>\n",
       "      <td>2.3</td>\n",
       "      <td>NaN</td>\n",
       "    </tr>\n",
       "    <tr>\n",
       "      <th>г683863&lt;888</th>\n",
       "      <td>2070-06-21 02:58:00</td>\n",
       "      <td>17.0</td>\n",
       "      <td>46.183333</td>\n",
       "      <td>19.816667</td>\n",
       "      <td>46.183333</td>\n",
       "      <td>NaN</td>\n",
       "      <td>0.377945</td>\n",
       "      <td>0.133194</td>\n",
       "      <td>0.221605</td>\n",
       "      <td>0.165186</td>\n",
       "      <td>...</td>\n",
       "      <td>0.11</td>\n",
       "      <td>2.4</td>\n",
       "      <td>0.0</td>\n",
       "      <td>NaN</td>\n",
       "      <td>60.3</td>\n",
       "      <td>0.5</td>\n",
       "      <td>6.3</td>\n",
       "      <td>0.12</td>\n",
       "      <td>2.6</td>\n",
       "      <td>NaN</td>\n",
       "    </tr>\n",
       "    <tr>\n",
       "      <th>г683863&lt;889</th>\n",
       "      <td>2070-06-21 03:50:00</td>\n",
       "      <td>20.0</td>\n",
       "      <td>48.500000</td>\n",
       "      <td>17.033333</td>\n",
       "      <td>48.500000</td>\n",
       "      <td>NaN</td>\n",
       "      <td>0.389875</td>\n",
       "      <td>0.105094</td>\n",
       "      <td>0.169459</td>\n",
       "      <td>0.143024</td>\n",
       "      <td>...</td>\n",
       "      <td>0.12</td>\n",
       "      <td>2.4</td>\n",
       "      <td>0.0</td>\n",
       "      <td>NaN</td>\n",
       "      <td>60.3</td>\n",
       "      <td>0.6</td>\n",
       "      <td>4.5</td>\n",
       "      <td>0.09</td>\n",
       "      <td>2.5</td>\n",
       "      <td>NaN</td>\n",
       "    </tr>\n",
       "    <tr>\n",
       "      <th>г683863&lt;968</th>\n",
       "      <td>2070-06-24 14:43:00</td>\n",
       "      <td>20.0</td>\n",
       "      <td>47.516667</td>\n",
       "      <td>24.966667</td>\n",
       "      <td>47.016667</td>\n",
       "      <td>3.107531</td>\n",
       "      <td>0.541855</td>\n",
       "      <td>0.143310</td>\n",
       "      <td>0.234872</td>\n",
       "      <td>0.208873</td>\n",
       "      <td>...</td>\n",
       "      <td>0.51</td>\n",
       "      <td>2.0</td>\n",
       "      <td>0.0</td>\n",
       "      <td>NaN</td>\n",
       "      <td>59.2</td>\n",
       "      <td>1.0</td>\n",
       "      <td>7.1</td>\n",
       "      <td>0.19</td>\n",
       "      <td>2.2</td>\n",
       "      <td>NaN</td>\n",
       "    </tr>\n",
       "  </tbody>\n",
       "</table>\n",
       "<p>5 rows × 68 columns</p>\n",
       "</div>"
      ],
      "text/plain": [
       "                             DT  t вып-обр  t обработка  t под током  \\\n",
       "nplv                                                                   \n",
       "г6837?3<87? 2070-06-21 00:14:00       29.0    45.366667    24.400000   \n",
       "г683863<887 2070-06-21 02:00:00       24.0    43.350000    17.950000   \n",
       "г683863<888 2070-06-21 02:58:00       17.0    46.183333    19.816667   \n",
       "г683863<889 2070-06-21 03:50:00       20.0    48.500000    17.033333   \n",
       "г683863<968 2070-06-24 14:43:00       20.0    47.516667    24.966667   \n",
       "\n",
       "             t продувка   ПСН гр.  чист расход C  чист расход Cr  \\\n",
       "nplv                                                               \n",
       "г6837?3<87?   41.033333       NaN       0.456460        0.059572   \n",
       "г683863<887   43.350000       NaN       0.331665        0.081490   \n",
       "г683863<888   46.183333       NaN       0.377945        0.133194   \n",
       "г683863<889   48.500000       NaN       0.389875        0.105094   \n",
       "г683863<968   47.016667  3.107531       0.541855        0.143310   \n",
       "\n",
       "             чист расход Mn  чист расход Si  ...  химшлак первый MnO_1  \\\n",
       "nplv                                         ...                         \n",
       "г6837?3<87?        0.117446        0.104762  ...                  0.12   \n",
       "г683863<887        0.132332        0.139860  ...                  0.12   \n",
       "г683863<888        0.221605        0.165186  ...                  0.11   \n",
       "г683863<889        0.169459        0.143024  ...                  0.12   \n",
       "г683863<968        0.234872        0.208873  ...                  0.51   \n",
       "\n",
       "             химшлак первый R_1  химшлак первый SiO2_1  \\\n",
       "nplv                                                     \n",
       "г6837?3<87?                 2.6                    0.0   \n",
       "г683863<887                 2.6                    0.0   \n",
       "г683863<888                 2.4                    0.0   \n",
       "г683863<889                 2.4                    0.0   \n",
       "г683863<968                 2.0                    0.0   \n",
       "\n",
       "             химшлак последний Al2O3  химшлак последний CaO  \\\n",
       "nplv                                                          \n",
       "г6837?3<87?                      NaN                   53.4   \n",
       "г683863<887                      NaN                   57.2   \n",
       "г683863<888                      NaN                   60.3   \n",
       "г683863<889                      NaN                   60.3   \n",
       "г683863<968                      NaN                   59.2   \n",
       "\n",
       "             химшлак последний FeO  химшлак последний MgO  \\\n",
       "nplv                                                        \n",
       "г6837?3<87?                    1.0                    5.8   \n",
       "г683863<887                    0.5                    8.1   \n",
       "г683863<888                    0.5                    6.3   \n",
       "г683863<889                    0.6                    4.5   \n",
       "г683863<968                    1.0                    7.1   \n",
       "\n",
       "             химшлак последний MnO  химшлак последний R  \\\n",
       "nplv                                                      \n",
       "г6837?3<87?                   0.15                  2.6   \n",
       "г683863<887                   0.13                  2.3   \n",
       "г683863<888                   0.12                  2.6   \n",
       "г683863<889                   0.09                  2.5   \n",
       "г683863<968                   0.19                  2.2   \n",
       "\n",
       "             химшлак последний SiO2  \n",
       "nplv                                 \n",
       "г6837?3<87?                     NaN  \n",
       "г683863<887                     NaN  \n",
       "г683863<888                     NaN  \n",
       "г683863<889                     NaN  \n",
       "г683863<968                     NaN  \n",
       "\n",
       "[5 rows x 68 columns]"
      ]
     },
     "execution_count": 2,
     "metadata": {},
     "output_type": "execute_result"
    }
   ],
   "source": [
    "df = pd.read_csv('Очищенные_данные_2.csv', sep=',', index_col=0, parse_dates=['DT'])\n",
    "df.head()"
   ]
  },
  {
   "cell_type": "code",
   "execution_count": 3,
   "metadata": {},
   "outputs": [
    {
     "data": {
      "text/plain": [
       "68"
      ]
     },
     "execution_count": 3,
     "metadata": {},
     "output_type": "execute_result"
    }
   ],
   "source": [
    "len(df.columns)"
   ]
  },
  {
   "cell_type": "markdown",
   "metadata": {},
   "source": [
    "## Feature Engineering"
   ]
  },
  {
   "cell_type": "code",
   "execution_count": 4,
   "metadata": {},
   "outputs": [],
   "source": [
    "pearson_corr = df.drop('DT', axis=1).corr(method='pearson', min_periods=50)\n",
    "pos_corr = np.abs(np.nan_to_num(pearson_corr.values, 0.0))\n",
    "strong_corr_pairs = []\n",
    "for i in range(1, len(pos_corr)):\n",
    "    if np.max(pos_corr[i, :i]) >= 0.8:\n",
    "        j = np.argmax(pos_corr[i, :i])\n",
    "        strong_corr_pairs.append((i, j, pearson_corr.values[i, j]))"
   ]
  },
  {
   "cell_type": "code",
   "execution_count": 5,
   "metadata": {},
   "outputs": [],
   "source": [
    "cols = df.drop('DT', axis=1).columns\n",
    "cols_dict = dict(list(zip(range(len(cols)), cols)))"
   ]
  },
  {
   "cell_type": "code",
   "execution_count": 6,
   "metadata": {},
   "outputs": [
    {
     "data": {
      "text/html": [
       "<div>\n",
       "<style scoped>\n",
       "    .dataframe tbody tr th:only-of-type {\n",
       "        vertical-align: middle;\n",
       "    }\n",
       "\n",
       "    .dataframe tbody tr th {\n",
       "        vertical-align: top;\n",
       "    }\n",
       "\n",
       "    .dataframe thead th {\n",
       "        text-align: right;\n",
       "    }\n",
       "</style>\n",
       "<table border=\"1\" class=\"dataframe\">\n",
       "  <thead>\n",
       "    <tr style=\"text-align: right;\">\n",
       "      <th></th>\n",
       "      <th>0</th>\n",
       "      <th>1</th>\n",
       "      <th>2</th>\n",
       "    </tr>\n",
       "  </thead>\n",
       "  <tbody>\n",
       "    <tr>\n",
       "      <th>5</th>\n",
       "      <td>ферспл SiMn18</td>\n",
       "      <td>чист расход Mn</td>\n",
       "      <td>0.998350</td>\n",
       "    </tr>\n",
       "    <tr>\n",
       "      <th>6</th>\n",
       "      <td>ферспл  фх850А</td>\n",
       "      <td>чист расход Cr</td>\n",
       "      <td>0.997216</td>\n",
       "    </tr>\n",
       "    <tr>\n",
       "      <th>14</th>\n",
       "      <td>химсталь последний Ni</td>\n",
       "      <td>химсталь первый Ni_1</td>\n",
       "      <td>0.993611</td>\n",
       "    </tr>\n",
       "    <tr>\n",
       "      <th>12</th>\n",
       "      <td>химсталь последний Cu</td>\n",
       "      <td>химсталь первый Cu_1</td>\n",
       "      <td>0.989659</td>\n",
       "    </tr>\n",
       "    <tr>\n",
       "      <th>0</th>\n",
       "      <td>t продувка</td>\n",
       "      <td>t обработка</td>\n",
       "      <td>0.988132</td>\n",
       "    </tr>\n",
       "    <tr>\n",
       "      <th>3</th>\n",
       "      <td>ферспл  FeV-80</td>\n",
       "      <td>чист расход V</td>\n",
       "      <td>0.985564</td>\n",
       "    </tr>\n",
       "    <tr>\n",
       "      <th>7</th>\n",
       "      <td>эл. энергия</td>\n",
       "      <td>t под током</td>\n",
       "      <td>0.962606</td>\n",
       "    </tr>\n",
       "    <tr>\n",
       "      <th>15</th>\n",
       "      <td>химсталь последний P</td>\n",
       "      <td>химсталь первый P_1</td>\n",
       "      <td>0.958760</td>\n",
       "    </tr>\n",
       "    <tr>\n",
       "      <th>13</th>\n",
       "      <td>химсталь последний Mo</td>\n",
       "      <td>химсталь первый Mo_1</td>\n",
       "      <td>0.957203</td>\n",
       "    </tr>\n",
       "    <tr>\n",
       "      <th>2</th>\n",
       "      <td>сыпуч  кокс. мелочь КМ1</td>\n",
       "      <td>чист расход C</td>\n",
       "      <td>0.955960</td>\n",
       "    </tr>\n",
       "    <tr>\n",
       "      <th>1</th>\n",
       "      <td>расход газ Ar</td>\n",
       "      <td>Ar (интенс.)</td>\n",
       "      <td>0.948079</td>\n",
       "    </tr>\n",
       "    <tr>\n",
       "      <th>4</th>\n",
       "      <td>ферспл  Mn5Si65Al0.5</td>\n",
       "      <td>чист расход Si</td>\n",
       "      <td>0.932350</td>\n",
       "    </tr>\n",
       "    <tr>\n",
       "      <th>16</th>\n",
       "      <td>химшлак первый SiO2_1</td>\n",
       "      <td>химшлак первый Al2O3_1</td>\n",
       "      <td>0.909990</td>\n",
       "    </tr>\n",
       "    <tr>\n",
       "      <th>8</th>\n",
       "      <td>химсталь первый C_1</td>\n",
       "      <td>чист расход C</td>\n",
       "      <td>-0.938660</td>\n",
       "    </tr>\n",
       "    <tr>\n",
       "      <th>11</th>\n",
       "      <td>химсталь первый Si_1</td>\n",
       "      <td>чист расход Si</td>\n",
       "      <td>-0.940789</td>\n",
       "    </tr>\n",
       "    <tr>\n",
       "      <th>9</th>\n",
       "      <td>химсталь первый Cr_1</td>\n",
       "      <td>чист расход Cr</td>\n",
       "      <td>-0.980671</td>\n",
       "    </tr>\n",
       "    <tr>\n",
       "      <th>10</th>\n",
       "      <td>химсталь первый Mn_1</td>\n",
       "      <td>ферспл SiMn18</td>\n",
       "      <td>-0.983028</td>\n",
       "    </tr>\n",
       "  </tbody>\n",
       "</table>\n",
       "</div>"
      ],
      "text/plain": [
       "                          0                       1         2\n",
       "5             ферспл SiMn18          чист расход Mn  0.998350\n",
       "6            ферспл  фх850А          чист расход Cr  0.997216\n",
       "14    химсталь последний Ni    химсталь первый Ni_1  0.993611\n",
       "12    химсталь последний Cu    химсталь первый Cu_1  0.989659\n",
       "0                t продувка             t обработка  0.988132\n",
       "3            ферспл  FeV-80           чист расход V  0.985564\n",
       "7               эл. энергия             t под током  0.962606\n",
       "15     химсталь последний P     химсталь первый P_1  0.958760\n",
       "13    химсталь последний Mo    химсталь первый Mo_1  0.957203\n",
       "2   сыпуч  кокс. мелочь КМ1           чист расход C  0.955960\n",
       "1             расход газ Ar            Ar (интенс.)  0.948079\n",
       "4      ферспл  Mn5Si65Al0.5          чист расход Si  0.932350\n",
       "16    химшлак первый SiO2_1  химшлак первый Al2O3_1  0.909990\n",
       "8       химсталь первый C_1           чист расход C -0.938660\n",
       "11     химсталь первый Si_1          чист расход Si -0.940789\n",
       "9      химсталь первый Cr_1          чист расход Cr -0.980671\n",
       "10     химсталь первый Mn_1           ферспл SiMn18 -0.983028"
      ]
     },
     "execution_count": 6,
     "metadata": {},
     "output_type": "execute_result"
    }
   ],
   "source": [
    "# сильно коррелирующие фичи\n",
    "strong_corr_df = pd.DataFrame(strong_corr_pairs).replace(cols_dict).sort_values(2, ascending=False)\n",
    "strong_corr_df"
   ]
  },
  {
   "cell_type": "code",
   "execution_count": 7,
   "metadata": {},
   "outputs": [],
   "source": [
    "cols_for_engineering = ['химсталь последний Ni',\n",
    "                        'химсталь последний Cu',\n",
    "                        'химсталь последний P',\n",
    "                        'химсталь последний Mo',\n",
    "                        'химшлак первый SiO2_1']\n",
    "corr_cols_to_drop = [col for col in strong_corr_df[0] if col not in cols_for_engineering]"
   ]
  },
  {
   "cell_type": "code",
   "execution_count": 8,
   "metadata": {},
   "outputs": [],
   "source": [
    "df.drop(corr_cols_to_drop, axis=1, inplace=True)"
   ]
  },
  {
   "cell_type": "code",
   "execution_count": 9,
   "metadata": {},
   "outputs": [
    {
     "data": {
      "text/plain": [
       "array([['химсталь последний Ni', 'химсталь первый Ni_1'],\n",
       "       ['химсталь последний Cu', 'химсталь первый Cu_1'],\n",
       "       ['химсталь последний P', 'химсталь первый P_1'],\n",
       "       ['химсталь последний Mo', 'химсталь первый Mo_1'],\n",
       "       ['химшлак первый SiO2_1', 'химшлак первый Al2O3_1']], dtype=object)"
      ]
     },
     "execution_count": 9,
     "metadata": {},
     "output_type": "execute_result"
    }
   ],
   "source": [
    "pairs = strong_corr_df[strong_corr_df[0].isin(cols_for_engineering)][[0,1]].values\n",
    "pairs"
   ]
  },
  {
   "cell_type": "code",
   "execution_count": 10,
   "metadata": {},
   "outputs": [
    {
     "data": {
      "image/png": "[encoded data removed]",
      "text/plain": [
       "<Figure size 864x144 with 1 Axes>"
      ]
     },
     "metadata": {
      "needs_background": "light"
     },
     "output_type": "display_data"
    },
    {
     "data": {
      "image/png": "[encoded data removed]",
      "text/plain": [
       "<Figure size 864x144 with 1 Axes>"
      ]
     },
     "metadata": {
      "needs_background": "light"
     },
     "output_type": "display_data"
    },
    {
     "data": {
      "image/png": "[encoded data removed]",
      "text/plain": [
       "<Figure size 864x144 with 1 Axes>"
      ]
     },
     "metadata": {
      "needs_background": "light"
     },
     "output_type": "display_data"
    },
    {
     "data": {
      "image/png": "[encoded data removed]",
      "text/plain": [
       "<Figure size 864x144 with 1 Axes>"
      ]
     },
     "metadata": {
      "needs_background": "light"
     },
     "output_type": "display_data"
    },
    {
     "data": {
      "image/png": "[encoded data removed]",
      "text/plain": [
       "<Figure size 864x144 with 1 Axes>"
      ]
     },
     "metadata": {
      "needs_background": "light"
     },
     "output_type": "display_data"
    }
   ],
   "source": [
    "for pair in pairs:\n",
    "    fig = plt.figure(figsize=(12, 2))\n",
    "    sns.boxplot(data=df[pair], orient='h')"
   ]
  },
  {
   "cell_type": "markdown",
   "metadata": {},
   "source": [
    "Колонки с Ni и Cu можно убрать."
   ]
  },
  {
   "cell_type": "code",
   "execution_count": 11,
   "metadata": {},
   "outputs": [],
   "source": [
    "df.drop(['химсталь первый Cu_1', 'химсталь первый Ni_1'], axis=1, inplace=True)"
   ]
  },
  {
   "cell_type": "code",
   "execution_count": 12,
   "metadata": {},
   "outputs": [],
   "source": [
    "pairs = np.delete(pairs, 0, axis=0) # ['химсталь последний Ni', 'химсталь первый Ni_1']\n",
    "pairs = np.delete(pairs, 0, axis=0) # ['химсталь последний Cu', 'химсталь первый Cu_1']"
   ]
  },
  {
   "cell_type": "markdown",
   "metadata": {},
   "source": [
    "Попробуем отношение."
   ]
  },
  {
   "cell_type": "code",
   "execution_count": 13,
   "metadata": {},
   "outputs": [],
   "source": [
    "def safe_division(x, y):\n",
    "    if (x != x) | (y != y) | (y == 0):\n",
    "        return np.nan\n",
    "    return x / y\n",
    "\n",
    "for pair in pairs:\n",
    "    new_col = pair[0]+'_'+pair[1]+'_ratio'\n",
    "    df[new_col] = df.apply(lambda x: safe_division(x[pair[0]],x[pair[1]]), axis=1)"
   ]
  },
  {
   "cell_type": "markdown",
   "metadata": {},
   "source": [
    "## Feature Importance"
   ]
  },
  {
   "cell_type": "code",
   "execution_count": 14,
   "metadata": {},
   "outputs": [],
   "source": [
    "TARGETS = ['химшлак последний Al2O3', 'химшлак последний CaO',\n",
    "           'химшлак последний R', 'химшлак последний SiO2']"
   ]
  },
  {
   "cell_type": "code",
   "execution_count": 15,
   "metadata": {},
   "outputs": [],
   "source": [
    "df.drop('DT', axis=1, inplace=True) # не понадобится, скорее всего"
   ]
  },
  {
   "cell_type": "code",
   "execution_count": 16,
   "metadata": {},
   "outputs": [],
   "source": [
    "for col in df.columns:\n",
    "    if df[col].nunique() <= 50:\n",
    "        df[col] = df[col].astype('category')"
   ]
  },
  {
   "cell_type": "code",
   "execution_count": 17,
   "metadata": {},
   "outputs": [],
   "source": [
    "NUMERICAL = df.select_dtypes(exclude=['object', 'datetime64']).columns.tolist()\n",
    "# ORDINAL = df.select_dtypes(include=['category']).columns.tolist()\n",
    "for tar in TARGETS:\n",
    "    if tar in NUMERICAL:\n",
    "        NUMERICAL.remove(tar)"
   ]
  },
  {
   "cell_type": "markdown",
   "metadata": {},
   "source": [
    "#### Correlations"
   ]
  },
  {
   "cell_type": "code",
   "execution_count": 18,
   "metadata": {},
   "outputs": [],
   "source": [
    "correlations = dict()\n",
    "\n",
    "for tar in TARGETS:\n",
    "    correlations[tar] = dict()\n",
    "    for col in NUMERICAL:\n",
    "        correlations[tar][col] = df[col].corr(df[tar])"
   ]
  },
  {
   "cell_type": "code",
   "execution_count": 19,
   "metadata": {},
   "outputs": [
    {
     "data": {
      "text/html": [
       "<div>\n",
       "<style scoped>\n",
       "    .dataframe tbody tr th:only-of-type {\n",
       "        vertical-align: middle;\n",
       "    }\n",
       "\n",
       "    .dataframe tbody tr th {\n",
       "        vertical-align: top;\n",
       "    }\n",
       "\n",
       "    .dataframe thead th {\n",
       "        text-align: right;\n",
       "    }\n",
       "</style>\n",
       "<table border=\"1\" class=\"dataframe\">\n",
       "  <thead>\n",
       "    <tr style=\"text-align: right;\">\n",
       "      <th></th>\n",
       "      <th>химшлак последний Al2O3</th>\n",
       "      <th>химшлак последний CaO</th>\n",
       "      <th>химшлак последний R</th>\n",
       "      <th>химшлак последний SiO2</th>\n",
       "    </tr>\n",
       "  </thead>\n",
       "  <tbody>\n",
       "    <tr>\n",
       "      <th>химшлак первый Al2O3_1</th>\n",
       "      <td>0.630918</td>\n",
       "      <td>-0.083420</td>\n",
       "      <td>0.098214</td>\n",
       "      <td>-0.202930</td>\n",
       "    </tr>\n",
       "    <tr>\n",
       "      <th>химшлак первый R_1</th>\n",
       "      <td>0.330314</td>\n",
       "      <td>0.343483</td>\n",
       "      <td>0.583721</td>\n",
       "      <td>-0.373604</td>\n",
       "    </tr>\n",
       "    <tr>\n",
       "      <th>химшлак последний MgO</th>\n",
       "      <td>-0.253654</td>\n",
       "      <td>-0.438164</td>\n",
       "      <td>-0.508423</td>\n",
       "      <td>0.275869</td>\n",
       "    </tr>\n",
       "    <tr>\n",
       "      <th>химшлак первый SiO2_1_химшлак первый Al2O3_1_ratio</th>\n",
       "      <td>-0.647657</td>\n",
       "      <td>0.003345</td>\n",
       "      <td>-0.287558</td>\n",
       "      <td>0.321874</td>\n",
       "    </tr>\n",
       "  </tbody>\n",
       "</table>\n",
       "</div>"
      ],
      "text/plain": [
       "                                                    химшлак последний Al2O3  \\\n",
       "химшлак первый Al2O3_1                                             0.630918   \n",
       "химшлак первый R_1                                                 0.330314   \n",
       "химшлак последний MgO                                             -0.253654   \n",
       "химшлак первый SiO2_1_химшлак первый Al2O3_1_ratio                -0.647657   \n",
       "\n",
       "                                                    химшлак последний CaO  \\\n",
       "химшлак первый Al2O3_1                                          -0.083420   \n",
       "химшлак первый R_1                                               0.343483   \n",
       "химшлак последний MgO                                           -0.438164   \n",
       "химшлак первый SiO2_1_химшлак первый Al2O3_1_ratio               0.003345   \n",
       "\n",
       "                                                    химшлак последний R  \\\n",
       "химшлак первый Al2O3_1                                         0.098214   \n",
       "химшлак первый R_1                                             0.583721   \n",
       "химшлак последний MgO                                         -0.508423   \n",
       "химшлак первый SiO2_1_химшлак первый Al2O3_1_ratio            -0.287558   \n",
       "\n",
       "                                                    химшлак последний SiO2  \n",
       "химшлак первый Al2O3_1                                           -0.202930  \n",
       "химшлак первый R_1                                               -0.373604  \n",
       "химшлак последний MgO                                             0.275869  \n",
       "химшлак первый SiO2_1_химшлак первый Al2O3_1_ratio                0.321874  "
      ]
     },
     "execution_count": 19,
     "metadata": {},
     "output_type": "execute_result"
    }
   ],
   "source": [
    "corrs = pd.DataFrame(correlations)\n",
    "corrs[(abs(corrs) > 0.5).any(1)]"
   ]
  },
  {
   "cell_type": "code",
   "execution_count": 20,
   "metadata": {},
   "outputs": [],
   "source": [
    "golden_features = list(corrs[(abs(corrs) > 0.3).any(1)].index)"
   ]
  },
  {
   "cell_type": "markdown",
   "metadata": {},
   "source": [
    "#### Imputter"
   ]
  },
  {
   "cell_type": "code",
   "execution_count": 21,
   "metadata": {},
   "outputs": [],
   "source": [
    "from sklearn.impute import KNNImputer\n",
    "\n",
    "def knn_impute(df, col):\n",
    "    imputer = KNNImputer(n_neighbors=2)\n",
    "    imp_col = imputer.fit_transform(df[col].to_numpy().reshape(-1, 1))\n",
    "    imp_col = [item[0] for item in imp_col.tolist()]\n",
    "    df[col] = imp_col"
   ]
  },
  {
   "cell_type": "code",
   "execution_count": 22,
   "metadata": {},
   "outputs": [],
   "source": [
    "cols = set(df.columns) - set(TARGETS)\n",
    "nan_cols=[col for col in cols if df[col].isnull().values.any()]"
   ]
  },
  {
   "cell_type": "code",
   "execution_count": 23,
   "metadata": {},
   "outputs": [],
   "source": [
    "#Стратегия knn \n",
    "for col in nan_cols:\n",
    "    knn_impute(df, col)"
   ]
  },
  {
   "cell_type": "markdown",
   "metadata": {},
   "source": [
    "#### Lasso"
   ]
  },
  {
   "cell_type": "code",
   "execution_count": 24,
   "metadata": {},
   "outputs": [],
   "source": [
    "data = df.dropna().astype(float)\n",
    "data = (data - data.mean()) / (data.std() + 0.0001)"
   ]
  },
  {
   "cell_type": "code",
   "execution_count": 25,
   "metadata": {},
   "outputs": [],
   "source": [
    "x_train, x_test, y_train, y_test = train_test_split(\n",
    "    data.drop(columns = TARGETS),\n",
    "    data[TARGETS],\n",
    "    test_size=0.3,\n",
    "    shuffle = True)"
   ]
  },
  {
   "cell_type": "code",
   "execution_count": 26,
   "metadata": {},
   "outputs": [
    {
     "data": {
      "text/plain": [
       "Lasso(alpha=0.02)"
      ]
     },
     "execution_count": 26,
     "metadata": {},
     "output_type": "execute_result"
    }
   ],
   "source": [
    "clf = linear_model.Lasso(alpha=0.02)\n",
    "clf.fit(x_train, y_train)"
   ]
  },
  {
   "cell_type": "code",
   "execution_count": 27,
   "metadata": {},
   "outputs": [
    {
     "name": "stdout",
     "output_type": "stream",
     "text": [
      "химшлак последний Al2O3\n",
      "['t под током' 'ПСН гр.' 'чист расход C' 'чист расход Mn' 'чист расход Si'\n",
      " 'температура первая' 'Ar (интенс.)' 'произв жидкая сталь'\n",
      " 'химсталь первый Al_1' 'химсталь последний Al' 'химсталь последний C'\n",
      " 'химсталь последний Mo' 'химсталь последний N' 'химсталь последний Ni'\n",
      " 'химсталь последний V' 'химшлак первый Al2O3_1' 'химшлак первый MnO_1'\n",
      " 'химшлак первый R_1' 'химшлак первый SiO2_1' 'химшлак последний FeO'\n",
      " 'химшлак последний MgO' 'химшлак последний MnO'\n",
      " 'химшлак первый SiO2_1_химшлак первый Al2O3_1_ratio']\n",
      "химшлак последний CaO\n",
      "['t под током' 'ПСН гр.' 'чист расход C' 'чист расход Cr' 'чист расход Si'\n",
      " 'чист расход V' 'температура первая' 'эл. энергия (интенс.)'\n",
      " 'сыпуч известь РП' 'сыпуч  шпат плав.' 'ферспл CaC2'\n",
      " 'химсталь первый S_1' 'химсталь последний C' 'химсталь последний Ca'\n",
      " 'химсталь последний Cu' 'химсталь последний S' 'химсталь последний Ti'\n",
      " 'химшлак первый Al2O3_1' 'химшлак первый CaO_1' 'химшлак первый MnO_1'\n",
      " 'химшлак первый R_1' 'химшлак последний FeO' 'химшлак последний MgO'\n",
      " 'химшлак последний MnO' 'химсталь последний P_химсталь первый P_1_ratio']\n",
      "химшлак последний R\n",
      "['t вып-обр' 'чист расход C' 'чист расход Mn' 'чист расход Si'\n",
      " 'чист расход V' 'температура первая' 'эл. энергия (интенс.)'\n",
      " 'ферспл CaC2' 'химсталь первый Al_1' 'химсталь первый P_1'\n",
      " 'химсталь первый S_1' 'химсталь последний Cr' 'химсталь последний Cu'\n",
      " 'химсталь последний Mn' 'химсталь последний N' 'химсталь последний S'\n",
      " 'химсталь последний Si' 'химшлак первый CaO_1' 'химшлак первый MgO_1'\n",
      " 'химшлак первый R_1' 'химшлак последний FeO' 'химшлак последний MgO'\n",
      " 'химшлак последний MnO']\n",
      "химшлак последний SiO2\n",
      "['t обработка' 't под током' 'чист расход Mn' 'чист расход Si'\n",
      " 'сыпуч известь РП' 'сыпуч  шпат плав.' 'ферспл CaC2'\n",
      " 'химсталь первый Al_1' 'химсталь первый N_1' 'химсталь последний C'\n",
      " 'химсталь последний Cr' 'химсталь последний Mn' 'химсталь последний N'\n",
      " 'химсталь последний P' 'химсталь последний S' 'химсталь последний Si'\n",
      " 'химсталь последний V' 'химшлак первый FeO_1' 'химшлак первый MgO_1'\n",
      " 'химшлак первый MnO_1' 'химшлак первый R_1' 'химшлак первый SiO2_1'\n",
      " 'химшлак последний FeO' 'химшлак последний MgO' 'химшлак последний MnO'\n",
      " 'химсталь последний P_химсталь первый P_1_ratio'\n",
      " 'химшлак первый SiO2_1_химшлак первый Al2O3_1_ratio']\n"
     ]
    }
   ],
   "source": [
    "names = df.drop(columns = TARGETS).columns\n",
    "for i,m in enumerate(clf.coef_):\n",
    "    print(TARGETS[i])\n",
    "    print(names[np.where(m != 0)].values)"
   ]
  },
  {
   "cell_type": "markdown",
   "metadata": {},
   "source": [
    "#### Random Forest"
   ]
  },
  {
   "cell_type": "code",
   "execution_count": 28,
   "metadata": {},
   "outputs": [
    {
     "name": "stdout",
     "output_type": "stream",
     "text": [
      "Feature ranking for химшлак последний Al2O3:\n",
      "1.\t химшлак первый SiO2_1_химшлак первый Al2O3_1_ratio (0.451005)\n",
      "2.\t химшлак последний MnO (0.058252)\n",
      "3.\t химшлак первый Al2O3_1 (0.036700)\n",
      "4.\t чист расход C (0.031011)\n",
      "5.\t химшлак последний MgO (0.016609)\n",
      "6.\t химшлак первый CaO_1 (0.015629)\n",
      "7.\t химшлак первый MgO_1 (0.015467)\n",
      "8.\t чист расход Si (0.014343)\n",
      "9.\t температура первая (0.014294)\n",
      "10.\t чист расход Cr (0.014117)\n",
      "11.\t t вып-обр (0.013087)\n",
      "12.\t температура последняя (0.012906)\n",
      "13.\t чист расход Mn (0.012865)\n",
      "14.\t t обработка (0.012851)\n",
      "15.\t химсталь последний C (0.012287)\n",
      "16.\t химшлак первый SiO2_1 (0.012167)\n",
      "17.\t Ar (интенс.) (0.012159)\n",
      "18.\t химсталь последний Si (0.011974)\n",
      "19.\t эл. энергия (интенс.) (0.011956)\n",
      "20.\t химсталь последний Cu (0.011588)\n",
      "21.\t t под током (0.011570)\n",
      "22.\t чист расход V (0.011466)\n",
      "23.\t сыпуч  шпат плав. (0.011399)\n",
      "24.\t химсталь последний S (0.011388)\n",
      "25.\t химсталь последний Ni (0.010663)\n",
      "26.\t сыпуч известь РП (0.010482)\n",
      "27.\t произв жидкая сталь (0.010203)\n",
      "28.\t химшлак последний FeO (0.010052)\n",
      "29.\t химшлак первый MnO_1 (0.009943)\n",
      "30.\t химсталь последний Mo (0.009424)\n",
      "31.\t ПСН гр. (0.009253)\n",
      "32.\t химсталь последний Mn (0.009120)\n",
      "33.\t химшлак первый FeO_1 (0.008602)\n",
      "34.\t химшлак первый R_1 (0.007070)\n",
      "35.\t химсталь последний P_химсталь первый P_1_ratio (0.007031)\n",
      "36.\t химсталь первый S_1 (0.006863)\n",
      "37.\t химсталь последний Cr (0.006520)\n",
      "38.\t химсталь последний N (0.006253)\n",
      "39.\t химсталь первый N_1 (0.005809)\n",
      "40.\t химсталь первый Mo_1 (0.004979)\n",
      "41.\t химсталь последний V (0.004287)\n",
      "42.\t химсталь последний Ca (0.004101)\n",
      "43.\t химсталь последний Mo_химсталь первый Mo_1_ratio (0.004053)\n",
      "44.\t химсталь последний P (0.004032)\n",
      "45.\t химсталь первый P_1 (0.003184)\n",
      "46.\t химсталь первый V_1 (0.002262)\n",
      "47.\t химсталь последний Al (0.002088)\n",
      "48.\t химсталь последний Ti (0.001836)\n",
      "49.\t сыпуч кокс пыль УСТК (0.001511)\n",
      "50.\t химсталь первый Al_1 (0.001148)\n",
      "51.\t ферспл CaC2 (0.001095)\n",
      "52.\t химсталь первый Ti_1 (0.001044)\n",
      "\n",
      "Feature ranking for химшлак последний CaO:\n",
      "1.\t химшлак последний MgO (0.208174)\n",
      "2.\t химшлак первый CaO_1 (0.072480)\n",
      "3.\t чист расход C (0.055576)\n",
      "4.\t химшлак последний MnO (0.025333)\n",
      "5.\t Ar (интенс.) (0.024679)\n",
      "6.\t эл. энергия (интенс.) (0.024415)\n",
      "7.\t чист расход V (0.023775)\n",
      "8.\t чист расход Mn (0.022610)\n",
      "9.\t химшлак первый Al2O3_1 (0.021305)\n",
      "10.\t химшлак первый SiO2_1_химшлак первый Al2O3_1_ratio (0.021076)\n",
      "11.\t химшлак первый MgO_1 (0.021031)\n",
      "12.\t t под током (0.020772)\n",
      "13.\t t обработка (0.020658)\n",
      "14.\t химсталь последний Cu (0.019923)\n",
      "15.\t химсталь последний C (0.019809)\n",
      "16.\t чист расход Si (0.018940)\n",
      "17.\t химсталь последний Si (0.018816)\n",
      "18.\t чист расход Cr (0.018709)\n",
      "19.\t химшлак первый MnO_1 (0.018702)\n",
      "20.\t сыпуч известь РП (0.018666)\n",
      "21.\t сыпуч  шпат плав. (0.017197)\n",
      "22.\t химшлак первый SiO2_1 (0.017054)\n",
      "23.\t температура первая (0.016809)\n",
      "24.\t произв жидкая сталь (0.016597)\n",
      "25.\t химшлак последний FeO (0.016461)\n",
      "26.\t химшлак первый R_1 (0.016436)\n",
      "27.\t t вып-обр (0.015100)\n",
      "28.\t химсталь последний Ni (0.014519)\n",
      "29.\t ПСН гр. (0.014277)\n",
      "30.\t химсталь последний Mn (0.013674)\n",
      "31.\t температура последняя (0.013443)\n",
      "32.\t химсталь последний Cr (0.012874)\n",
      "33.\t химсталь последний S (0.012311)\n",
      "34.\t химсталь первый S_1 (0.011810)\n",
      "35.\t химшлак первый FeO_1 (0.010754)\n",
      "36.\t химсталь последний P_химсталь первый P_1_ratio (0.009915)\n",
      "37.\t химсталь последний Ca (0.007690)\n",
      "38.\t химсталь последний N (0.007393)\n",
      "39.\t химсталь последний P (0.007201)\n",
      "40.\t химсталь последний Mo_химсталь первый Mo_1_ratio (0.006519)\n",
      "41.\t химсталь последний Mo (0.006518)\n",
      "42.\t химсталь первый N_1 (0.006291)\n",
      "43.\t химсталь первый P_1 (0.005642)\n",
      "44.\t химсталь последний V (0.004997)\n",
      "45.\t химсталь первый Mo_1 (0.004974)\n",
      "46.\t химсталь первый V_1 (0.004105)\n",
      "47.\t химсталь первый Al_1 (0.003079)\n",
      "48.\t химсталь последний Al (0.002937)\n",
      "49.\t химсталь последний Ti (0.002513)\n",
      "50.\t химсталь первый Ti_1 (0.002153)\n",
      "51.\t ферспл CaC2 (0.001910)\n",
      "52.\t сыпуч кокс пыль УСТК (0.001396)\n",
      "\n",
      "Feature ranking for химшлак последний R:\n",
      "1.\t химшлак первый R_1 (0.305085)\n",
      "2.\t химшлак последний MnO (0.178152)\n",
      "3.\t химшлак последний MgO (0.080217)\n",
      "4.\t химшлак первый CaO_1 (0.020559)\n",
      "5.\t чист расход Si (0.017696)\n",
      "6.\t чист расход V (0.017131)\n",
      "7.\t чист расход Mn (0.016777)\n",
      "8.\t химшлак первый MgO_1 (0.015196)\n",
      "9.\t чист расход C (0.014619)\n",
      "10.\t температура первая (0.014388)\n",
      "11.\t эл. энергия (интенс.) (0.014149)\n",
      "12.\t t под током (0.014134)\n",
      "13.\t t обработка (0.013917)\n",
      "14.\t химшлак последний FeO (0.012627)\n",
      "15.\t чист расход Cr (0.012439)\n",
      "16.\t Ar (интенс.) (0.012170)\n",
      "17.\t химсталь последний C (0.012082)\n",
      "18.\t химшлак первый SiO2_1_химшлак первый Al2O3_1_ratio (0.011814)\n",
      "19.\t сыпуч известь РП (0.011763)\n",
      "20.\t химшлак первый MnO_1 (0.011550)\n",
      "21.\t химсталь последний Cu (0.011379)\n",
      "22.\t сыпуч  шпат плав. (0.011269)\n",
      "23.\t химсталь последний Si (0.010947)\n",
      "24.\t химсталь последний Mn (0.010656)\n",
      "25.\t температура последняя (0.010569)\n",
      "26.\t ПСН гр. (0.010422)\n",
      "27.\t t вып-обр (0.010304)\n",
      "28.\t химшлак первый SiO2_1 (0.010275)\n",
      "29.\t химшлак первый Al2O3_1 (0.008912)\n",
      "30.\t произв жидкая сталь (0.008447)\n",
      "31.\t химсталь последний Ni (0.008231)\n",
      "32.\t химсталь последний Cr (0.007735)\n",
      "33.\t химшлак первый FeO_1 (0.007640)\n",
      "34.\t химсталь первый S_1 (0.006245)\n",
      "35.\t химсталь последний N (0.005916)\n",
      "36.\t химсталь последний P_химсталь первый P_1_ratio (0.005796)\n",
      "37.\t химсталь последний S (0.005564)\n",
      "38.\t химсталь первый N_1 (0.005414)\n",
      "39.\t химсталь последний Ca (0.005231)\n",
      "40.\t химсталь последний P (0.004451)\n",
      "41.\t химсталь первый P_1 (0.004132)\n",
      "42.\t химсталь последний Mo_химсталь первый Mo_1_ratio (0.004059)\n",
      "43.\t химсталь последний V (0.004000)\n",
      "44.\t химсталь последний Mo (0.003812)\n",
      "45.\t химсталь первый Mo_1 (0.003697)\n",
      "46.\t химсталь первый V_1 (0.002500)\n",
      "47.\t химсталь первый Al_1 (0.001416)\n",
      "48.\t химсталь последний Ti (0.001412)\n",
      "49.\t химсталь последний Al (0.001263)\n",
      "50.\t химсталь первый Ti_1 (0.001089)\n",
      "51.\t ферспл CaC2 (0.000424)\n",
      "52.\t сыпуч кокс пыль УСТК (0.000328)\n",
      "\n",
      "Feature ranking for химшлак последний SiO2:\n",
      "1.\t химшлак последний MnO (0.165738)\n",
      "2.\t химшлак первый R_1 (0.086322)\n",
      "3.\t химшлак первый SiO2_1_химшлак первый Al2O3_1_ratio (0.053301)\n",
      "4.\t химшлак последний MgO (0.037103)\n",
      "5.\t чист расход Mn (0.030797)\n",
      "6.\t химшлак первый SiO2_1 (0.026037)\n",
      "7.\t химшлак последний FeO (0.024983)\n",
      "8.\t t под током (0.023280)\n",
      "9.\t эл. энергия (интенс.) (0.022529)\n",
      "10.\t химшлак первый MgO_1 (0.022082)\n",
      "11.\t чист расход Si (0.021971)\n",
      "12.\t химшлак первый CaO_1 (0.021930)\n",
      "13.\t чист расход C (0.021737)\n",
      "14.\t Ar (интенс.) (0.021697)\n",
      "15.\t чист расход V (0.020191)\n",
      "16.\t химсталь последний C (0.020118)\n",
      "17.\t температура первая (0.019484)\n",
      "18.\t сыпуч известь РП (0.019291)\n",
      "19.\t t вып-обр (0.018512)\n",
      "20.\t t обработка (0.018164)\n",
      "21.\t чист расход Cr (0.018113)\n",
      "22.\t химсталь последний Mn (0.017325)\n",
      "23.\t химшлак первый MnO_1 (0.017172)\n",
      "24.\t сыпуч  шпат плав. (0.016981)\n",
      "25.\t ПСН гр. (0.016919)\n",
      "26.\t химсталь последний Cu (0.016656)\n",
      "27.\t произв жидкая сталь (0.015633)\n",
      "28.\t химсталь последний Si (0.015179)\n",
      "29.\t температура последняя (0.014406)\n",
      "30.\t химсталь последний Cr (0.012999)\n",
      "31.\t химсталь последний Ni (0.012455)\n",
      "32.\t химшлак первый Al2O3_1 (0.012196)\n",
      "33.\t химсталь последний N (0.011638)\n",
      "34.\t химшлак первый FeO_1 (0.010893)\n",
      "35.\t химсталь последний P_химсталь первый P_1_ratio (0.010319)\n",
      "36.\t химсталь последний S (0.009325)\n",
      "37.\t химсталь первый S_1 (0.009059)\n",
      "38.\t химсталь последний Ca (0.007383)\n",
      "39.\t химсталь первый N_1 (0.007141)\n",
      "40.\t химсталь последний V (0.006816)\n",
      "41.\t химсталь последний Mo_химсталь первый Mo_1_ratio (0.006621)\n",
      "42.\t химсталь последний P (0.006047)\n",
      "43.\t химсталь первый P_1 (0.005899)\n",
      "44.\t химсталь первый Mo_1 (0.005193)\n",
      "45.\t химсталь последний Mo (0.004821)\n",
      "46.\t химсталь первый V_1 (0.003762)\n",
      "47.\t химсталь последний Al (0.003325)\n",
      "48.\t ферспл CaC2 (0.002695)\n",
      "49.\t химсталь первый Al_1 (0.002654)\n",
      "50.\t химсталь последний Ti (0.002042)\n",
      "51.\t химсталь первый Ti_1 (0.001974)\n",
      "52.\t сыпуч кокс пыль УСТК (0.001094)\n",
      "\n"
     ]
    }
   ],
   "source": [
    "cols = data.columns\n",
    "for tar in TARGETS:\n",
    "    forest = RandomForestRegressor(n_estimators=100,\n",
    "                                   oob_score = True,\n",
    "                                   bootstrap = True,\n",
    "                                   random_state=42)\n",
    "    forest.fit(data.drop(columns = TARGETS), data[tar])\n",
    "    importances = forest.feature_importances_\n",
    "    indices = np.argsort(importances)[::-1]\n",
    "    print(\"Feature ranking for {}:\".format(tar))\n",
    "    for f in range(data.shape[1] - len(TARGETS)):\n",
    "        print(\"%d.\\t %s (%f)\" % (f + 1, names[indices[f]], importances[indices[f]]))\n",
    "    print()"
   ]
  },
  {
   "cell_type": "code",
   "execution_count": 29,
   "metadata": {},
   "outputs": [],
   "source": [
    "important_features = dict.fromkeys(TARGETS, {})\n",
    "for i,m in enumerate(clf.coef_):\n",
    "    important_features[TARGETS[i]] = set(list(names[np.where(m != 0)].values) + golden_features)"
   ]
  },
  {
   "cell_type": "markdown",
   "metadata": {},
   "source": [
    "## Model"
   ]
  },
  {
   "cell_type": "code",
   "execution_count": 30,
   "metadata": {},
   "outputs": [
    {
     "data": {
      "text/plain": [
       "химшлак последний Al2O3    0.74297\n",
       "химшлак последний CaO      1.00000\n",
       "химшлак последний R        1.00000\n",
       "химшлак последний SiO2     0.74297\n",
       "dtype: float64"
      ]
     },
     "execution_count": 30,
     "metadata": {},
     "output_type": "execute_result"
    }
   ],
   "source": [
    "df[TARGETS].count() / df.shape[0]"
   ]
  },
  {
   "cell_type": "code",
   "execution_count": 31,
   "metadata": {},
   "outputs": [],
   "source": [
    "pred_idx = df[df[TARGETS].isna().any(1)].index\n",
    "train_test_idx = df[~df[TARGETS].isna().any(1)].index"
   ]
  },
  {
   "cell_type": "code",
   "execution_count": 33,
   "metadata": {},
   "outputs": [
    {
     "data": {
      "image/png": "[encoded data removed]",
      "text/plain": [
       "<Figure size 432x288 with 4 Axes>"
      ]
     },
     "metadata": {
      "needs_background": "light"
     },
     "output_type": "display_data"
    }
   ],
   "source": [
    "df.loc[train_test_idx, TARGETS].astype(float).hist();"
   ]
  },
  {
   "cell_type": "code",
   "execution_count": 34,
   "metadata": {},
   "outputs": [
    {
     "data": {
      "image/png": "[encoded data removed]",
      "text/plain": [
       "<Figure size 432x288 with 4 Axes>"
      ]
     },
     "metadata": {
      "needs_background": "light"
     },
     "output_type": "display_data"
    }
   ],
   "source": [
    "df.loc[train_test_idx, TARGETS].apply(lambda x: np.log(x.astype('float64')+1), axis=1).hist();"
   ]
  },
  {
   "cell_type": "markdown",
   "metadata": {},
   "source": [
    "### Decision Tree"
   ]
  },
  {
   "cell_type": "code",
   "execution_count": 62,
   "metadata": {},
   "outputs": [],
   "source": [
    "from sklearn.tree import DecisionTreeRegressor\n",
    "from sklearn.model_selection import cross_val_score, KFold, train_test_split, GridSearchCV"
   ]
  },
  {
   "cell_type": "code",
   "execution_count": 82,
   "metadata": {},
   "outputs": [],
   "source": [
    "def train_DT(df, features, target):\n",
    "    X, y = df[features], df[target]\n",
    "    regressor = DecisionTreeRegressor(criterion='mse', random_state = 0)\n",
    "    tuned_parameters = {'max_depth': [3, 5, 10, 20],\n",
    "                        'min_samples_split': [2, 3, 4]}\n",
    "    dt = GridSearchCV(regressor, tuned_parameters, cv=3, verbose=True, n_jobs=-1)\n",
    "    dt.fit(X, y)\n",
    "    best_dt = dt.best_estimator_\n",
    "    return best_dt"
   ]
  },
  {
   "cell_type": "code",
   "execution_count": 64,
   "metadata": {},
   "outputs": [
    {
     "data": {
      "text/plain": [
       "['химшлак последний Al2O3',\n",
       " 'химшлак последний CaO',\n",
       " 'химшлак последний R',\n",
       " 'химшлак последний SiO2']"
      ]
     },
     "execution_count": 64,
     "metadata": {},
     "output_type": "execute_result"
    }
   ],
   "source": [
    "TARGETS"
   ]
  },
  {
   "cell_type": "code",
   "execution_count": 103,
   "metadata": {},
   "outputs": [
    {
     "name": "stdout",
     "output_type": "stream",
     "text": [
      "Fitting 3 folds for each of 12 candidates, totalling 36 fits\n"
     ]
    },
    {
     "name": "stderr",
     "output_type": "stream",
     "text": [
      "[Parallel(n_jobs=-1)]: Using backend LokyBackend with 4 concurrent workers.\n",
      "[Parallel(n_jobs=-1)]: Done  36 out of  36 | elapsed:    1.3s finished\n"
     ]
    }
   ],
   "source": [
    "target = 'химшлак последний Al2O3'\n",
    "model = train_DT(df.loc[train_test_idx, list(features)+[target]], features, target)"
   ]
  },
  {
   "cell_type": "code",
   "execution_count": 104,
   "metadata": {},
   "outputs": [
    {
     "data": {
      "text/plain": [
       "array([0.30243786, 0.32449434, 0.42185945])"
      ]
     },
     "execution_count": 104,
     "metadata": {},
     "output_type": "execute_result"
    }
   ],
   "source": [
    "cross_val_score(model, \n",
    "                df.loc[train_test_idx, features],\n",
    "                df.loc[train_test_idx, target],\n",
    "                scoring='r2',\n",
    "                cv=3)"
   ]
  },
  {
   "cell_type": "code",
   "execution_count": 105,
   "metadata": {},
   "outputs": [
    {
     "data": {
      "text/plain": [
       "array([-0.55758407, -0.5645487 , -0.34444927])"
      ]
     },
     "execution_count": 105,
     "metadata": {},
     "output_type": "execute_result"
    }
   ],
   "source": [
    "cross_val_score(model, \n",
    "                df.loc[train_test_idx, features],\n",
    "                df.loc[train_test_idx, target],\n",
    "                scoring='neg_mean_squared_error',\n",
    "                cv=3)"
   ]
  },
  {
   "cell_type": "code",
   "execution_count": 106,
   "metadata": {},
   "outputs": [
    {
     "data": {
      "image/png": "[encoded data removed]",
      "text/plain": [
       "<Figure size 1080x1080 with 1 Axes>"
      ]
     },
     "metadata": {
      "needs_background": "light"
     },
     "output_type": "display_data"
    }
   ],
   "source": [
    "from sklearn import tree\n",
    "\n",
    "fig = plt.figure(figsize=(15,15))\n",
    "_ = tree.plot_tree(model, \n",
    "                   max_depth=5, \n",
    "                   fontsize=8,\n",
    "                   feature_names=df.columns)"
   ]
  },
  {
   "cell_type": "markdown",
   "metadata": {},
   "source": [
    "### Linear Regression"
   ]
  },
  {
   "cell_type": "code",
   "execution_count": 35,
   "metadata": {},
   "outputs": [],
   "source": [
    "from sklearn.linear_model import LinearRegression, ElasticNet"
   ]
  },
  {
   "cell_type": "code",
   "execution_count": 36,
   "metadata": {},
   "outputs": [],
   "source": [
    "target = 'химшлак последний Al2O3'"
   ]
  },
  {
   "cell_type": "code",
   "execution_count": 89,
   "metadata": {},
   "outputs": [],
   "source": [
    "features = set(df.columns) - set(TARGETS)"
   ]
  },
  {
   "cell_type": "code",
   "execution_count": 90,
   "metadata": {},
   "outputs": [],
   "source": [
    "X, y = df.loc[train_test_idx, features], df.loc[train_test_idx, target]"
   ]
  },
  {
   "cell_type": "code",
   "execution_count": 91,
   "metadata": {},
   "outputs": [],
   "source": [
    "train_X, val_X, train_y, val_y = train_test_split(X, y, random_state=0, test_size=.3, shuffle=True)"
   ]
  },
  {
   "cell_type": "code",
   "execution_count": 92,
   "metadata": {},
   "outputs": [],
   "source": [
    "from sklearn.preprocessing import StandardScaler\n",
    "\n",
    "sc = StandardScaler()"
   ]
  },
  {
   "cell_type": "code",
   "execution_count": 93,
   "metadata": {},
   "outputs": [],
   "source": [
    "train_X = sc.fit_transform(train_X)\n",
    "val_X = sc.fit_transform(val_X)"
   ]
  },
  {
   "cell_type": "code",
   "execution_count": 94,
   "metadata": {},
   "outputs": [],
   "source": [
    "from sklearn.metrics import mean_squared_error, r2_score\n",
    "\n",
    "def evaluate_model(train, val, tr_y, val_y, features, est):\n",
    "    est.fit(train, tr_y)\n",
    "    pred_val = est.predict(val)\n",
    "    pred_train = est.predict(train)\n",
    "    \n",
    "    return pd.DataFrame({\n",
    "        'train_RMSE': [np.sqrt(mean_squared_error(tr_y, pred_train))], \n",
    "        'train_R2': [r2_score(tr_y, pred_train)],\n",
    "        'val_RMSE': [np.sqrt(mean_squared_error(val_y, pred_val))],\n",
    "        'val_R2': [r2_score(val_y, pred_val)]\n",
    "    })"
   ]
  },
  {
   "cell_type": "code",
   "execution_count": 95,
   "metadata": {},
   "outputs": [
    {
     "data": {
      "text/html": [
       "<div>\n",
       "<style scoped>\n",
       "    .dataframe tbody tr th:only-of-type {\n",
       "        vertical-align: middle;\n",
       "    }\n",
       "\n",
       "    .dataframe tbody tr th {\n",
       "        vertical-align: top;\n",
       "    }\n",
       "\n",
       "    .dataframe thead th {\n",
       "        text-align: right;\n",
       "    }\n",
       "</style>\n",
       "<table border=\"1\" class=\"dataframe\">\n",
       "  <thead>\n",
       "    <tr style=\"text-align: right;\">\n",
       "      <th></th>\n",
       "      <th>train_RMSE</th>\n",
       "      <th>train_R2</th>\n",
       "      <th>val_RMSE</th>\n",
       "      <th>val_R2</th>\n",
       "    </tr>\n",
       "  </thead>\n",
       "  <tbody>\n",
       "    <tr>\n",
       "      <th>0</th>\n",
       "      <td>0.1086</td>\n",
       "      <td>0.538865</td>\n",
       "      <td>0.107408</td>\n",
       "      <td>0.555304</td>\n",
       "    </tr>\n",
       "  </tbody>\n",
       "</table>\n",
       "</div>"
      ],
      "text/plain": [
       "   train_RMSE  train_R2  val_RMSE    val_R2\n",
       "0      0.1086  0.538865  0.107408  0.555304"
      ]
     },
     "execution_count": 95,
     "metadata": {},
     "output_type": "execute_result"
    }
   ],
   "source": [
    "reg = LinearRegression()\n",
    "scores = evaluate_model(train_X, val_X, np.log(train_y+1), np.log(val_y+1), important_features[target], reg)\n",
    "scores"
   ]
  },
  {
   "cell_type": "code",
   "execution_count": 69,
   "metadata": {},
   "outputs": [],
   "source": [
    "cv = KFold(n_splits=3, shuffle=True, random_state=0)\n",
    "gs = GridSearchCV(\n",
    "        ElasticNet(random_state=0), \n",
    "        {\n",
    "            'alpha': np.linspace(0, 300, 10),\n",
    "            'l1_ratio': np.arange(0, 1.1, 0.1)\n",
    "        }, \n",
    "        n_jobs=-1, \n",
    "         scoring=['neg_mean_squared_error', 'r2'], \n",
    "         refit='neg_mean_squared_error',\n",
    "         cv=cv, \n",
    "         verbose=10\n",
    ")"
   ]
  },
  {
   "cell_type": "code",
   "execution_count": 70,
   "metadata": {},
   "outputs": [
    {
     "name": "stdout",
     "output_type": "stream",
     "text": [
      "Fitting 3 folds for each of 110 candidates, totalling 330 fits\n"
     ]
    },
    {
     "name": "stderr",
     "output_type": "stream",
     "text": [
      "[Parallel(n_jobs=-1)]: Using backend LokyBackend with 4 concurrent workers.\n",
      "[Parallel(n_jobs=-1)]: Batch computation too fast (0.0800s.) Setting batch_size=2.\n",
      "[Parallel(n_jobs=-1)]: Done   5 tasks      | elapsed:    0.1s\n",
      "[Parallel(n_jobs=-1)]: Done  12 tasks      | elapsed:    0.2s\n",
      "[Parallel(n_jobs=-1)]: Done  26 tasks      | elapsed:    0.4s\n",
      "[Parallel(n_jobs=-1)]: Done  40 tasks      | elapsed:    0.6s\n",
      "[Parallel(n_jobs=-1)]: Batch computation too fast (0.1812s.) Setting batch_size=4.\n",
      "[Parallel(n_jobs=-1)]: Batch computation too fast (0.1250s.) Setting batch_size=8.\n",
      "[Parallel(n_jobs=-1)]: Done  62 tasks      | elapsed:    0.8s\n",
      "[Parallel(n_jobs=-1)]: Done 108 tasks      | elapsed:    1.3s\n",
      "[Parallel(n_jobs=-1)]: Done 192 tasks      | elapsed:    2.4s\n",
      "[Parallel(n_jobs=-1)]: Done 280 tasks      | elapsed:    3.0s\n",
      "[Parallel(n_jobs=-1)]: Done 307 tasks      | elapsed:    3.2s\n"
     ]
    },
    {
     "name": "stdout",
     "output_type": "stream",
     "text": [
      "Wall time: 3.72 s\n"
     ]
    },
    {
     "name": "stderr",
     "output_type": "stream",
     "text": [
      "[Parallel(n_jobs=-1)]: Done 330 out of 330 | elapsed:    3.6s finished\n",
      "C:\\Users\\Luybo\\Anaconda3\\lib\\site-packages\\sklearn\\model_selection\\_search.py:765: UserWarning: With alpha=0, this algorithm does not converge well. You are advised to use the LinearRegression estimator\n",
      "  self.best_estimator_.fit(X, y, **fit_params)\n",
      "C:\\Users\\Luybo\\Anaconda3\\lib\\site-packages\\sklearn\\linear_model\\_coordinate_descent.py:531: UserWarning: Coordinate descent with no regularization may lead to unexpected results and is discouraged.\n",
      "  positive)\n"
     ]
    },
    {
     "data": {
      "text/plain": [
       "GridSearchCV(cv=KFold(n_splits=3, random_state=0, shuffle=True),\n",
       "             estimator=ElasticNet(random_state=0), n_jobs=-1,\n",
       "             param_grid={'alpha': array([  0.        ,  33.33333333,  66.66666667, 100.        ,\n",
       "       133.33333333, 166.66666667, 200.        , 233.33333333,\n",
       "       266.66666667, 300.        ]),\n",
       "                         'l1_ratio': array([0. , 0.1, 0.2, 0.3, 0.4, 0.5, 0.6, 0.7, 0.8, 0.9, 1. ])},\n",
       "             refit='neg_mean_squared_error',\n",
       "             scoring=['neg_mean_squared_error', 'r2'], verbose=10)"
      ]
     },
     "execution_count": 70,
     "metadata": {},
     "output_type": "execute_result"
    }
   ],
   "source": [
    "%%time\n",
    "gs.fit(train_X, train_y);"
   ]
  },
  {
   "cell_type": "code",
   "execution_count": 71,
   "metadata": {
    "scrolled": true
   },
   "outputs": [
    {
     "data": {
      "text/plain": [
       "{'alpha': 0.0, 'l1_ratio': 0.0}"
      ]
     },
     "execution_count": 71,
     "metadata": {},
     "output_type": "execute_result"
    }
   ],
   "source": [
    "gs.best_params_"
   ]
  }
 ],
 "metadata": {
  "kernelspec": {
   "display_name": "Python 3",
   "language": "python",
   "name": "python3"
  },
  "language_info": {
   "codemirror_mode": {
    "name": "ipython",
    "version": 3
   },
   "file_extension": ".py",
   "mimetype": "text/x-python",
   "name": "python",
   "nbconvert_exporter": "python",
   "pygments_lexer": "ipython3",
   "version": "3.7.9"
  }
 },
 "nbformat": 4,
 "nbformat_minor": 4
}
