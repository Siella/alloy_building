{
 "cells": [
  {
   "cell_type": "markdown",
   "metadata": {},
   "source": [
    "## Imports"
   ]
  },
  {
   "cell_type": "code",
   "execution_count": 1,
   "metadata": {},
   "outputs": [],
   "source": [
    "import itertools\n",
    "import numpy as np\n",
    "import pandas as pd\n",
    "import seaborn as sns\n",
    "import scipy.stats as st\n",
    "import matplotlib.pyplot as plt\n",
    "\n",
    "from sklearn import linear_model\n",
    "from sklearn.model_selection import KFold, train_test_split\n",
    "from sklearn.ensemble import RandomForestRegressor"
   ]
  },
  {
   "cell_type": "markdown",
   "metadata": {},
   "source": [
    "## Данные"
   ]
  },
  {
   "cell_type": "code",
   "execution_count": 2,
   "metadata": {},
   "outputs": [
    {
     "data": {
      "text/html": [
       "<div>\n",
       "<style scoped>\n",
       "    .dataframe tbody tr th:only-of-type {\n",
       "        vertical-align: middle;\n",
       "    }\n",
       "\n",
       "    .dataframe tbody tr th {\n",
       "        vertical-align: top;\n",
       "    }\n",
       "\n",
       "    .dataframe thead th {\n",
       "        text-align: right;\n",
       "    }\n",
       "</style>\n",
       "<table border=\"1\" class=\"dataframe\">\n",
       "  <thead>\n",
       "    <tr style=\"text-align: right;\">\n",
       "      <th></th>\n",
       "      <th>t вып-обр</th>\n",
       "      <th>t обработка</th>\n",
       "      <th>t под током</th>\n",
       "      <th>t продувка</th>\n",
       "      <th>ПСН гр.</th>\n",
       "      <th>чист расход C</th>\n",
       "      <th>чист расход Cr</th>\n",
       "      <th>чист расход Mn</th>\n",
       "      <th>чист расход Si</th>\n",
       "      <th>чист расход V</th>\n",
       "      <th>...</th>\n",
       "      <th>химшлак первый MnO_1</th>\n",
       "      <th>химшлак первый R_1</th>\n",
       "      <th>химшлак первый SiO2_1</th>\n",
       "      <th>химшлак последний Al2O3</th>\n",
       "      <th>химшлак последний CaO</th>\n",
       "      <th>химшлак последний FeO</th>\n",
       "      <th>химшлак последний MgO</th>\n",
       "      <th>химшлак последний MnO</th>\n",
       "      <th>химшлак последний R</th>\n",
       "      <th>химшлак последний SiO2</th>\n",
       "    </tr>\n",
       "    <tr>\n",
       "      <th>nplv</th>\n",
       "      <th></th>\n",
       "      <th></th>\n",
       "      <th></th>\n",
       "      <th></th>\n",
       "      <th></th>\n",
       "      <th></th>\n",
       "      <th></th>\n",
       "      <th></th>\n",
       "      <th></th>\n",
       "      <th></th>\n",
       "      <th></th>\n",
       "      <th></th>\n",
       "      <th></th>\n",
       "      <th></th>\n",
       "      <th></th>\n",
       "      <th></th>\n",
       "      <th></th>\n",
       "      <th></th>\n",
       "      <th></th>\n",
       "      <th></th>\n",
       "      <th></th>\n",
       "    </tr>\n",
       "  </thead>\n",
       "  <tbody>\n",
       "    <tr>\n",
       "      <th>г6837?3&lt;87?</th>\n",
       "      <td>29.0</td>\n",
       "      <td>45.366667</td>\n",
       "      <td>24.400000</td>\n",
       "      <td>41.033333</td>\n",
       "      <td>NaN</td>\n",
       "      <td>0.456460</td>\n",
       "      <td>0.059572</td>\n",
       "      <td>0.117446</td>\n",
       "      <td>0.104762</td>\n",
       "      <td>0.040938</td>\n",
       "      <td>...</td>\n",
       "      <td>0.12</td>\n",
       "      <td>2.6</td>\n",
       "      <td>NaN</td>\n",
       "      <td>NaN</td>\n",
       "      <td>53.4</td>\n",
       "      <td>1.0</td>\n",
       "      <td>5.8</td>\n",
       "      <td>0.15</td>\n",
       "      <td>2.6</td>\n",
       "      <td>NaN</td>\n",
       "    </tr>\n",
       "    <tr>\n",
       "      <th>г683863&lt;887</th>\n",
       "      <td>24.0</td>\n",
       "      <td>43.350000</td>\n",
       "      <td>17.950000</td>\n",
       "      <td>43.350000</td>\n",
       "      <td>NaN</td>\n",
       "      <td>0.331665</td>\n",
       "      <td>0.081490</td>\n",
       "      <td>0.132332</td>\n",
       "      <td>0.139860</td>\n",
       "      <td>0.041622</td>\n",
       "      <td>...</td>\n",
       "      <td>0.12</td>\n",
       "      <td>2.6</td>\n",
       "      <td>NaN</td>\n",
       "      <td>NaN</td>\n",
       "      <td>57.2</td>\n",
       "      <td>0.5</td>\n",
       "      <td>8.1</td>\n",
       "      <td>0.13</td>\n",
       "      <td>2.3</td>\n",
       "      <td>NaN</td>\n",
       "    </tr>\n",
       "    <tr>\n",
       "      <th>г683863&lt;888</th>\n",
       "      <td>17.0</td>\n",
       "      <td>46.183333</td>\n",
       "      <td>19.816667</td>\n",
       "      <td>46.183333</td>\n",
       "      <td>NaN</td>\n",
       "      <td>0.377945</td>\n",
       "      <td>0.133194</td>\n",
       "      <td>0.221605</td>\n",
       "      <td>0.165186</td>\n",
       "      <td>0.042050</td>\n",
       "      <td>...</td>\n",
       "      <td>0.11</td>\n",
       "      <td>2.4</td>\n",
       "      <td>NaN</td>\n",
       "      <td>NaN</td>\n",
       "      <td>60.3</td>\n",
       "      <td>0.5</td>\n",
       "      <td>6.3</td>\n",
       "      <td>0.12</td>\n",
       "      <td>2.6</td>\n",
       "      <td>NaN</td>\n",
       "    </tr>\n",
       "    <tr>\n",
       "      <th>г683863&lt;889</th>\n",
       "      <td>20.0</td>\n",
       "      <td>48.500000</td>\n",
       "      <td>17.033333</td>\n",
       "      <td>48.500000</td>\n",
       "      <td>NaN</td>\n",
       "      <td>0.389875</td>\n",
       "      <td>0.105094</td>\n",
       "      <td>0.169459</td>\n",
       "      <td>0.143024</td>\n",
       "      <td>0.040967</td>\n",
       "      <td>...</td>\n",
       "      <td>0.12</td>\n",
       "      <td>2.4</td>\n",
       "      <td>NaN</td>\n",
       "      <td>NaN</td>\n",
       "      <td>60.3</td>\n",
       "      <td>0.6</td>\n",
       "      <td>4.5</td>\n",
       "      <td>0.09</td>\n",
       "      <td>2.5</td>\n",
       "      <td>NaN</td>\n",
       "    </tr>\n",
       "    <tr>\n",
       "      <th>г683863&lt;968</th>\n",
       "      <td>20.0</td>\n",
       "      <td>47.516667</td>\n",
       "      <td>24.966667</td>\n",
       "      <td>47.016667</td>\n",
       "      <td>3.107531</td>\n",
       "      <td>0.541855</td>\n",
       "      <td>0.143310</td>\n",
       "      <td>0.234872</td>\n",
       "      <td>0.208873</td>\n",
       "      <td>0.042392</td>\n",
       "      <td>...</td>\n",
       "      <td>0.51</td>\n",
       "      <td>2.0</td>\n",
       "      <td>NaN</td>\n",
       "      <td>NaN</td>\n",
       "      <td>59.2</td>\n",
       "      <td>1.0</td>\n",
       "      <td>7.1</td>\n",
       "      <td>0.19</td>\n",
       "      <td>2.2</td>\n",
       "      <td>NaN</td>\n",
       "    </tr>\n",
       "  </tbody>\n",
       "</table>\n",
       "<p>5 rows × 68 columns</p>\n",
       "</div>"
      ],
      "text/plain": [
       "             t вып-обр  t обработка  t под током  t продувка   ПСН гр.  \\\n",
       "nplv                                                                     \n",
       "г6837?3<87?       29.0    45.366667    24.400000   41.033333       NaN   \n",
       "г683863<887       24.0    43.350000    17.950000   43.350000       NaN   \n",
       "г683863<888       17.0    46.183333    19.816667   46.183333       NaN   \n",
       "г683863<889       20.0    48.500000    17.033333   48.500000       NaN   \n",
       "г683863<968       20.0    47.516667    24.966667   47.016667  3.107531   \n",
       "\n",
       "             чист расход C  чист расход Cr  чист расход Mn  чист расход Si  \\\n",
       "nplv                                                                         \n",
       "г6837?3<87?       0.456460        0.059572        0.117446        0.104762   \n",
       "г683863<887       0.331665        0.081490        0.132332        0.139860   \n",
       "г683863<888       0.377945        0.133194        0.221605        0.165186   \n",
       "г683863<889       0.389875        0.105094        0.169459        0.143024   \n",
       "г683863<968       0.541855        0.143310        0.234872        0.208873   \n",
       "\n",
       "             чист расход V  ...  химшлак первый MnO_1  химшлак первый R_1  \\\n",
       "nplv                        ...                                             \n",
       "г6837?3<87?       0.040938  ...                  0.12                 2.6   \n",
       "г683863<887       0.041622  ...                  0.12                 2.6   \n",
       "г683863<888       0.042050  ...                  0.11                 2.4   \n",
       "г683863<889       0.040967  ...                  0.12                 2.4   \n",
       "г683863<968       0.042392  ...                  0.51                 2.0   \n",
       "\n",
       "             химшлак первый SiO2_1  химшлак последний Al2O3  \\\n",
       "nplv                                                          \n",
       "г6837?3<87?                    NaN                      NaN   \n",
       "г683863<887                    NaN                      NaN   \n",
       "г683863<888                    NaN                      NaN   \n",
       "г683863<889                    NaN                      NaN   \n",
       "г683863<968                    NaN                      NaN   \n",
       "\n",
       "             химшлак последний CaO  химшлак последний FeO  \\\n",
       "nplv                                                        \n",
       "г6837?3<87?                   53.4                    1.0   \n",
       "г683863<887                   57.2                    0.5   \n",
       "г683863<888                   60.3                    0.5   \n",
       "г683863<889                   60.3                    0.6   \n",
       "г683863<968                   59.2                    1.0   \n",
       "\n",
       "             химшлак последний MgO  химшлак последний MnO  \\\n",
       "nplv                                                        \n",
       "г6837?3<87?                    5.8                   0.15   \n",
       "г683863<887                    8.1                   0.13   \n",
       "г683863<888                    6.3                   0.12   \n",
       "г683863<889                    4.5                   0.09   \n",
       "г683863<968                    7.1                   0.19   \n",
       "\n",
       "             химшлак последний R  химшлак последний SiO2  \n",
       "nplv                                                      \n",
       "г6837?3<87?                  2.6                     NaN  \n",
       "г683863<887                  2.3                     NaN  \n",
       "г683863<888                  2.6                     NaN  \n",
       "г683863<889                  2.5                     NaN  \n",
       "г683863<968                  2.2                     NaN  \n",
       "\n",
       "[5 rows x 68 columns]"
      ]
     },
     "execution_count": 2,
     "metadata": {},
     "output_type": "execute_result"
    }
   ],
   "source": [
    "df = pd.read_csv('Очищенные обработанные данные.csv', sep=',', index_col=0)#, parse_dates=['DT'])\n",
    "df.head()"
   ]
  },
  {
   "cell_type": "code",
   "execution_count": 3,
   "metadata": {},
   "outputs": [],
   "source": [
    "TARGETS = ['химшлак последний Al2O3', 'химшлак последний CaO',\n",
    "           'химшлак последний R', 'химшлак последний SiO2']"
   ]
  },
  {
   "cell_type": "code",
   "execution_count": 4,
   "metadata": {},
   "outputs": [],
   "source": [
    "# убираем колонки с \"будущим\"\n",
    "last_analysis_cols = [col for col in df.columns if (col.find('последний') != -1) & (col not in TARGETS)]"
   ]
  },
  {
   "cell_type": "code",
   "execution_count": 5,
   "metadata": {},
   "outputs": [
    {
     "data": {
      "text/plain": [
       "['химсталь последний Al',\n",
       " 'химсталь последний C',\n",
       " 'химсталь последний Ca',\n",
       " 'химсталь последний Cr',\n",
       " 'химсталь последний Cu',\n",
       " 'химсталь последний Mn',\n",
       " 'химсталь последний Mo',\n",
       " 'химсталь последний N',\n",
       " 'химсталь последний Ni',\n",
       " 'химсталь последний P',\n",
       " 'химсталь последний S',\n",
       " 'химсталь последний Si',\n",
       " 'химсталь последний Ti',\n",
       " 'химсталь последний V',\n",
       " 'химшлак последний FeO',\n",
       " 'химшлак последний MgO',\n",
       " 'химшлак последний MnO']"
      ]
     },
     "execution_count": 5,
     "metadata": {},
     "output_type": "execute_result"
    }
   ],
   "source": [
    "last_analysis_cols"
   ]
  },
  {
   "cell_type": "code",
   "execution_count": 6,
   "metadata": {},
   "outputs": [],
   "source": [
    "df.drop(last_analysis_cols, axis=1, inplace=True)"
   ]
  },
  {
   "cell_type": "code",
   "execution_count": 7,
   "metadata": {},
   "outputs": [
    {
     "data": {
      "text/plain": [
       "51"
      ]
     },
     "execution_count": 7,
     "metadata": {},
     "output_type": "execute_result"
    }
   ],
   "source": [
    "len(df.columns)"
   ]
  },
  {
   "cell_type": "code",
   "execution_count": 8,
   "metadata": {},
   "outputs": [],
   "source": [
    "# cols_to_use = list(df.drop(TARGETS+['произв количество обработок'],axis=1).columns)\n",
    "# with open('cols_for_modelling.txt', 'w') as f:\n",
    "#     for item in cols_to_use:\n",
    "#         f.write(\"%s\\n\" % item)"
   ]
  },
  {
   "cell_type": "markdown",
   "metadata": {},
   "source": [
    "## Feature Engineering"
   ]
  },
  {
   "cell_type": "code",
   "execution_count": 9,
   "metadata": {},
   "outputs": [],
   "source": [
    "pearson_corr = df.drop(TARGETS, axis=1).corr(method='pearson', min_periods=50)\n",
    "pos_corr = np.abs(np.nan_to_num(pearson_corr.values, 0.0))\n",
    "strong_corr_pairs = []\n",
    "for i in range(1, len(pos_corr)):\n",
    "    if np.max(pos_corr[i, :i]) >= 0.7:\n",
    "        j = np.argmax(pos_corr[i, :i])\n",
    "        strong_corr_pairs.append((i, j, pearson_corr.values[i, j]))"
   ]
  },
  {
   "cell_type": "code",
   "execution_count": 10,
   "metadata": {},
   "outputs": [],
   "source": [
    "cols = df.drop(TARGETS, axis=1).columns\n",
    "cols_dict = dict(list(zip(range(len(cols)), cols)))"
   ]
  },
  {
   "cell_type": "code",
   "execution_count": 11,
   "metadata": {},
   "outputs": [
    {
     "data": {
      "text/html": [
       "<div>\n",
       "<style scoped>\n",
       "    .dataframe tbody tr th:only-of-type {\n",
       "        vertical-align: middle;\n",
       "    }\n",
       "\n",
       "    .dataframe tbody tr th {\n",
       "        vertical-align: top;\n",
       "    }\n",
       "\n",
       "    .dataframe thead th {\n",
       "        text-align: right;\n",
       "    }\n",
       "</style>\n",
       "<table border=\"1\" class=\"dataframe\">\n",
       "  <thead>\n",
       "    <tr style=\"text-align: right;\">\n",
       "      <th></th>\n",
       "      <th>0</th>\n",
       "      <th>1</th>\n",
       "      <th>2</th>\n",
       "    </tr>\n",
       "  </thead>\n",
       "  <tbody>\n",
       "    <tr>\n",
       "      <th>5</th>\n",
       "      <td>ферспл SiMn18</td>\n",
       "      <td>чист расход Mn</td>\n",
       "      <td>0.998347</td>\n",
       "    </tr>\n",
       "    <tr>\n",
       "      <th>6</th>\n",
       "      <td>ферспл  фх850А</td>\n",
       "      <td>чист расход Cr</td>\n",
       "      <td>0.997200</td>\n",
       "    </tr>\n",
       "    <tr>\n",
       "      <th>0</th>\n",
       "      <td>t продувка</td>\n",
       "      <td>t обработка</td>\n",
       "      <td>0.988138</td>\n",
       "    </tr>\n",
       "    <tr>\n",
       "      <th>3</th>\n",
       "      <td>ферспл  FeV-80</td>\n",
       "      <td>чист расход V</td>\n",
       "      <td>0.985592</td>\n",
       "    </tr>\n",
       "    <tr>\n",
       "      <th>7</th>\n",
       "      <td>эл. энергия</td>\n",
       "      <td>t под током</td>\n",
       "      <td>0.962466</td>\n",
       "    </tr>\n",
       "    <tr>\n",
       "      <th>2</th>\n",
       "      <td>сыпуч  кокс. мелочь КМ1</td>\n",
       "      <td>чист расход C</td>\n",
       "      <td>0.956258</td>\n",
       "    </tr>\n",
       "    <tr>\n",
       "      <th>1</th>\n",
       "      <td>расход газ Ar</td>\n",
       "      <td>Ar (интенс.)</td>\n",
       "      <td>0.948139</td>\n",
       "    </tr>\n",
       "    <tr>\n",
       "      <th>4</th>\n",
       "      <td>ферспл  Mn5Si65Al0.5</td>\n",
       "      <td>чист расход Si</td>\n",
       "      <td>0.932234</td>\n",
       "    </tr>\n",
       "    <tr>\n",
       "      <th>12</th>\n",
       "      <td>химшлак первый SiO2_1</td>\n",
       "      <td>химшлак первый R_1</td>\n",
       "      <td>-0.711066</td>\n",
       "    </tr>\n",
       "    <tr>\n",
       "      <th>8</th>\n",
       "      <td>химсталь первый C_1</td>\n",
       "      <td>чист расход C</td>\n",
       "      <td>-0.940621</td>\n",
       "    </tr>\n",
       "    <tr>\n",
       "      <th>11</th>\n",
       "      <td>химсталь первый Si_1</td>\n",
       "      <td>чист расход Si</td>\n",
       "      <td>-0.941547</td>\n",
       "    </tr>\n",
       "    <tr>\n",
       "      <th>10</th>\n",
       "      <td>химсталь первый Mn_1</td>\n",
       "      <td>ферспл SiMn18</td>\n",
       "      <td>-0.983948</td>\n",
       "    </tr>\n",
       "    <tr>\n",
       "      <th>9</th>\n",
       "      <td>химсталь первый Cr_1</td>\n",
       "      <td>чист расход Cr</td>\n",
       "      <td>-0.984464</td>\n",
       "    </tr>\n",
       "  </tbody>\n",
       "</table>\n",
       "</div>"
      ],
      "text/plain": [
       "                          0                   1         2\n",
       "5             ферспл SiMn18      чист расход Mn  0.998347\n",
       "6            ферспл  фх850А      чист расход Cr  0.997200\n",
       "0                t продувка         t обработка  0.988138\n",
       "3            ферспл  FeV-80       чист расход V  0.985592\n",
       "7               эл. энергия         t под током  0.962466\n",
       "2   сыпуч  кокс. мелочь КМ1       чист расход C  0.956258\n",
       "1             расход газ Ar        Ar (интенс.)  0.948139\n",
       "4      ферспл  Mn5Si65Al0.5      чист расход Si  0.932234\n",
       "12    химшлак первый SiO2_1  химшлак первый R_1 -0.711066\n",
       "8       химсталь первый C_1       чист расход C -0.940621\n",
       "11     химсталь первый Si_1      чист расход Si -0.941547\n",
       "10     химсталь первый Mn_1       ферспл SiMn18 -0.983948\n",
       "9      химсталь первый Cr_1      чист расход Cr -0.984464"
      ]
     },
     "execution_count": 11,
     "metadata": {},
     "output_type": "execute_result"
    }
   ],
   "source": [
    "# сильно коррелирующие фичи\n",
    "strong_corr_df = pd.DataFrame(strong_corr_pairs).replace(cols_dict).sort_values(2, ascending=False)\n",
    "strong_corr_df"
   ]
  },
  {
   "cell_type": "code",
   "execution_count": 12,
   "metadata": {},
   "outputs": [
    {
     "data": {
      "text/plain": [
       "array([['ферспл SiMn18', 'чист расход Mn'],\n",
       "       ['ферспл  фх850А', 'чист расход Cr'],\n",
       "       ['t продувка', 't обработка'],\n",
       "       ['ферспл  FeV-80', 'чист расход V'],\n",
       "       ['эл. энергия', 't под током'],\n",
       "       ['сыпуч  кокс. мелочь КМ1', 'чист расход C'],\n",
       "       ['расход газ Ar', 'Ar (интенс.)'],\n",
       "       ['ферспл  Mn5Si65Al0.5', 'чист расход Si'],\n",
       "       ['химшлак первый SiO2_1', 'химшлак первый R_1'],\n",
       "       ['химсталь первый C_1', 'чист расход C'],\n",
       "       ['химсталь первый Si_1', 'чист расход Si'],\n",
       "       ['химсталь первый Mn_1', 'ферспл SiMn18'],\n",
       "       ['химсталь первый Cr_1', 'чист расход Cr']], dtype=object)"
      ]
     },
     "execution_count": 12,
     "metadata": {},
     "output_type": "execute_result"
    }
   ],
   "source": [
    "pairs = strong_corr_df[[0,1]].values\n",
    "pairs"
   ]
  },
  {
   "cell_type": "code",
   "execution_count": 13,
   "metadata": {
    "scrolled": true
   },
   "outputs": [],
   "source": [
    "# for i in range(len(pairs)):\n",
    "#     plt.figure()\n",
    "#     sns.pairplot(df[pairs[i]])\n",
    "#     plt.show();"
   ]
  },
  {
   "cell_type": "code",
   "execution_count": 14,
   "metadata": {},
   "outputs": [],
   "source": [
    "pairs_for_engineering = [['химшлак первый SiO2_1', 'химшлак первый Al2O3_1']]\n",
    "# cols_to_drop = [pair[1] for pair in pairs if list(pair) not in pairs_for_engineering]\n",
    "cols_to_drop = ['чист расход Mn', 'чист расход Cr', 'чист расход V']"
   ]
  },
  {
   "cell_type": "code",
   "execution_count": 15,
   "metadata": {},
   "outputs": [],
   "source": [
    "# with open('cols_for_engineering.txt', 'w') as f:\n",
    "#     for item in pairs:\n",
    "#         f.write(\"%s\\n\" % item)"
   ]
  },
  {
   "cell_type": "code",
   "execution_count": 16,
   "metadata": {},
   "outputs": [],
   "source": [
    "# with open('cols_for_engineering.txt') as f:\n",
    "#     lines = f.read().splitlines()\n",
    "#     lines = [eval(item) for item in lines]"
   ]
  },
  {
   "cell_type": "code",
   "execution_count": 17,
   "metadata": {},
   "outputs": [],
   "source": [
    "# for pair in pairs:\n",
    "#     fig = plt.figure(figsize=(12, 2))\n",
    "#     sns.boxplot(data=df[pair], orient='h')"
   ]
  },
  {
   "cell_type": "markdown",
   "metadata": {},
   "source": [
    "#### Imputter"
   ]
  },
  {
   "cell_type": "code",
   "execution_count": 18,
   "metadata": {},
   "outputs": [],
   "source": [
    "from sklearn.impute import KNNImputer\n",
    "\n",
    "imputer = KNNImputer(n_neighbors=2)\n",
    "X = pd.DataFrame(imputer.fit_transform(df.drop(TARGETS, axis=1)), columns=df.drop(TARGETS, axis=1).columns)"
   ]
  },
  {
   "cell_type": "code",
   "execution_count": 19,
   "metadata": {},
   "outputs": [],
   "source": [
    "df[X.columns] = X.values"
   ]
  },
  {
   "cell_type": "markdown",
   "metadata": {},
   "source": [
    "Попробуем отношение."
   ]
  },
  {
   "cell_type": "code",
   "execution_count": 20,
   "metadata": {},
   "outputs": [],
   "source": [
    "def safe_division(x, y):\n",
    "    if (x != x) | (y != y) | (y == 0):\n",
    "        return np.nan\n",
    "    return x / y\n",
    "\n",
    "for pair in pairs:\n",
    "    new_col = pair[0]+'_'+pair[1]+'_ratio'\n",
    "    df[new_col] = df.apply(lambda x: safe_division(x[pair[0]],x[pair[1]]), axis=1)"
   ]
  },
  {
   "cell_type": "code",
   "execution_count": 21,
   "metadata": {},
   "outputs": [],
   "source": [
    "# pairs = [['химшлак первый Al2O3_1', 'химшлак первый R_1']]#,\n",
    "#          ['химшлак первый SiO2_1', 'химшлак первый R_1']]\n",
    "# for pair in pairs:\n",
    "#     new_col = pair[0]+'_'+pair[1]+'_mul'\n",
    "#     df[new_col] = df.apply(lambda x: x[pair[0]]*x[pair[1]], axis=1)"
   ]
  },
  {
   "cell_type": "code",
   "execution_count": 22,
   "metadata": {},
   "outputs": [],
   "source": [
    "import itertools\n",
    "t_features = ['t вып-обр', 't обработка', 't под током', 't продувка']\n",
    "t_combinations = list(itertools.combinations(t_features, 2))"
   ]
  },
  {
   "cell_type": "code",
   "execution_count": 23,
   "metadata": {},
   "outputs": [],
   "source": [
    "for pair in t_combinations:\n",
    "    new_col = pair[0]+'_'+pair[1]+'_sub'\n",
    "    df[new_col] = df.apply(lambda x: abs(x[pair[0]]-x[pair[1]]), axis=1)\n",
    "#     df[new_col] = df.apply(lambda x: safe_division(x[pair[0]],x[pair[1]]), axis=1)"
   ]
  },
  {
   "cell_type": "code",
   "execution_count": 24,
   "metadata": {},
   "outputs": [],
   "source": [
    "# df.drop(cols_to_drop, axis=1, inplace=True)"
   ]
  },
  {
   "cell_type": "code",
   "execution_count": 25,
   "metadata": {},
   "outputs": [],
   "source": [
    "# df.drop(t_features+['химшлак первый SiO2_1', 'химшлак первый Al2O3_1'], axis=1, inplace=True)"
   ]
  },
  {
   "cell_type": "code",
   "execution_count": 26,
   "metadata": {},
   "outputs": [],
   "source": [
    "df.drop(['произв количество обработок'], \n",
    "#          'ферспл CaC2', \n",
    "#          'химсталь первый V_1',\n",
    "#          'химшлак первый FeO_1'],\n",
    "        axis=1, inplace=True)"
   ]
  },
  {
   "cell_type": "code",
   "execution_count": 27,
   "metadata": {},
   "outputs": [
    {
     "data": {
      "text/plain": [
       "(4046, 69)"
      ]
     },
     "execution_count": 27,
     "metadata": {},
     "output_type": "execute_result"
    }
   ],
   "source": [
    "df.shape"
   ]
  },
  {
   "cell_type": "markdown",
   "metadata": {},
   "source": [
    "## Feature Importance"
   ]
  },
  {
   "cell_type": "code",
   "execution_count": 28,
   "metadata": {},
   "outputs": [],
   "source": [
    "# df.drop('DT', axis=1, inplace=True) # не понадобится больше"
   ]
  },
  {
   "cell_type": "code",
   "execution_count": 29,
   "metadata": {},
   "outputs": [],
   "source": [
    "for col in df.columns:\n",
    "    if (df[col].nunique() <= 50) & (col not in TARGETS):\n",
    "        df[col] = df[col].astype('category')"
   ]
  },
  {
   "cell_type": "code",
   "execution_count": 30,
   "metadata": {},
   "outputs": [],
   "source": [
    "NUMERICAL = df.select_dtypes(exclude=['object', 'datetime64']).columns.tolist()\n",
    "ORDINAL = df.select_dtypes(include=['category']).columns.tolist()\n",
    "for tar in TARGETS:\n",
    "    if tar in NUMERICAL:\n",
    "        NUMERICAL.remove(tar)\n",
    "    if tar in ORDINAL:\n",
    "        ORDINAL.remove(tar)"
   ]
  },
  {
   "cell_type": "markdown",
   "metadata": {},
   "source": [
    "#### Correlations"
   ]
  },
  {
   "cell_type": "code",
   "execution_count": 31,
   "metadata": {},
   "outputs": [],
   "source": [
    "correlations = dict()\n",
    "\n",
    "for tar in TARGETS:\n",
    "    correlations[tar] = dict()\n",
    "    for col in NUMERICAL:\n",
    "        correlations[tar][col] = df[col].corr(df[tar])"
   ]
  },
  {
   "cell_type": "code",
   "execution_count": 32,
   "metadata": {},
   "outputs": [
    {
     "data": {
      "text/html": [
       "<div>\n",
       "<style scoped>\n",
       "    .dataframe tbody tr th:only-of-type {\n",
       "        vertical-align: middle;\n",
       "    }\n",
       "\n",
       "    .dataframe tbody tr th {\n",
       "        vertical-align: top;\n",
       "    }\n",
       "\n",
       "    .dataframe thead th {\n",
       "        text-align: right;\n",
       "    }\n",
       "</style>\n",
       "<table border=\"1\" class=\"dataframe\">\n",
       "  <thead>\n",
       "    <tr style=\"text-align: right;\">\n",
       "      <th></th>\n",
       "      <th>химшлак последний Al2O3</th>\n",
       "      <th>химшлак последний CaO</th>\n",
       "      <th>химшлак последний R</th>\n",
       "      <th>химшлак последний SiO2</th>\n",
       "    </tr>\n",
       "  </thead>\n",
       "  <tbody>\n",
       "    <tr>\n",
       "      <th>химшлак первый Al2O3_1</th>\n",
       "      <td>0.630509</td>\n",
       "      <td>-0.075964</td>\n",
       "      <td>0.093664</td>\n",
       "      <td>-0.202448</td>\n",
       "    </tr>\n",
       "    <tr>\n",
       "      <th>химшлак первый R_1</th>\n",
       "      <td>0.330720</td>\n",
       "      <td>0.342729</td>\n",
       "      <td>0.584311</td>\n",
       "      <td>-0.374636</td>\n",
       "    </tr>\n",
       "    <tr>\n",
       "      <th>химшлак первый SiO2_1_химшлак первый R_1_ratio</th>\n",
       "      <td>-0.342554</td>\n",
       "      <td>-0.275772</td>\n",
       "      <td>-0.525614</td>\n",
       "      <td>0.384882</td>\n",
       "    </tr>\n",
       "  </tbody>\n",
       "</table>\n",
       "</div>"
      ],
      "text/plain": [
       "                                                химшлак последний Al2O3  \\\n",
       "химшлак первый Al2O3_1                                         0.630509   \n",
       "химшлак первый R_1                                             0.330720   \n",
       "химшлак первый SiO2_1_химшлак первый R_1_ratio                -0.342554   \n",
       "\n",
       "                                                химшлак последний CaO  \\\n",
       "химшлак первый Al2O3_1                                      -0.075964   \n",
       "химшлак первый R_1                                           0.342729   \n",
       "химшлак первый SiO2_1_химшлак первый R_1_ratio              -0.275772   \n",
       "\n",
       "                                                химшлак последний R  \\\n",
       "химшлак первый Al2O3_1                                     0.093664   \n",
       "химшлак первый R_1                                         0.584311   \n",
       "химшлак первый SiO2_1_химшлак первый R_1_ratio            -0.525614   \n",
       "\n",
       "                                                химшлак последний SiO2  \n",
       "химшлак первый Al2O3_1                                       -0.202448  \n",
       "химшлак первый R_1                                           -0.374636  \n",
       "химшлак первый SiO2_1_химшлак первый R_1_ratio                0.384882  "
      ]
     },
     "execution_count": 32,
     "metadata": {},
     "output_type": "execute_result"
    }
   ],
   "source": [
    "corrs = pd.DataFrame(correlations)\n",
    "corrs[(abs(corrs) > 0.5).any(1)]"
   ]
  },
  {
   "cell_type": "code",
   "execution_count": 33,
   "metadata": {},
   "outputs": [],
   "source": [
    "golden_features = list(corrs[(abs(corrs) > 0.3).any(1)].index)"
   ]
  },
  {
   "cell_type": "markdown",
   "metadata": {},
   "source": [
    "## Model"
   ]
  },
  {
   "cell_type": "code",
   "execution_count": 34,
   "metadata": {},
   "outputs": [
    {
     "data": {
      "text/plain": [
       "химшлак последний Al2O3    0.742709\n",
       "химшлак последний CaO      1.000000\n",
       "химшлак последний R        1.000000\n",
       "химшлак последний SiO2     0.742709\n",
       "dtype: float64"
      ]
     },
     "execution_count": 34,
     "metadata": {},
     "output_type": "execute_result"
    }
   ],
   "source": [
    "df[TARGETS].count() / df.shape[0]"
   ]
  },
  {
   "cell_type": "code",
   "execution_count": 35,
   "metadata": {},
   "outputs": [],
   "source": [
    "def make_train_test_for_target(df, target, cols_exclude_from_sample=[]):\n",
    "    new_df = df[~df[target].isna()]\n",
    "    return new_df.drop(set(cols_exclude_from_sample)-set([target]), axis=1)"
   ]
  },
  {
   "cell_type": "markdown",
   "metadata": {},
   "source": [
    "### Linear Regression"
   ]
  },
  {
   "cell_type": "code",
   "execution_count": 36,
   "metadata": {},
   "outputs": [],
   "source": [
    "from sklearn.linear_model import LinearRegression, ElasticNet"
   ]
  },
  {
   "cell_type": "code",
   "execution_count": 37,
   "metadata": {},
   "outputs": [],
   "source": [
    "target = 'химшлак последний Al2O3'"
   ]
  },
  {
   "cell_type": "code",
   "execution_count": 38,
   "metadata": {},
   "outputs": [],
   "source": [
    "data = make_train_test_for_target(df, target, TARGETS)"
   ]
  },
  {
   "cell_type": "code",
   "execution_count": 39,
   "metadata": {},
   "outputs": [
    {
     "data": {
      "image/png": "[encoded data removed]",
      "text/plain": [
       "<Figure size 432x288 with 2 Axes>"
      ]
     },
     "metadata": {
      "needs_background": "light"
     },
     "output_type": "display_data"
    }
   ],
   "source": [
    "import scipy.stats as ss\n",
    "\n",
    "fig = plt.figure()\n",
    "ax1 = fig.add_subplot(211)\n",
    "x = data[target].values\n",
    "prob = ss.probplot(x, dist=ss.norm, plot=ax1)\n",
    "ax1.set_xlabel('')\n",
    "ax1.set_title('Probplot against normal distribution')\n",
    "\n",
    "ax2 = fig.add_subplot(212)\n",
    "xt, _ = ss.boxcox(x)\n",
    "prob = ss.probplot(xt, dist=ss.norm, plot=ax2)\n",
    "ax2.set_title('Probplot after Box-Cox transformation')\n",
    "plt.show()"
   ]
  },
  {
   "cell_type": "code",
   "execution_count": 40,
   "metadata": {},
   "outputs": [],
   "source": [
    "X, y = data.drop(target, axis=1), data[target]\n",
    "features = X.columns"
   ]
  },
  {
   "cell_type": "code",
   "execution_count": 41,
   "metadata": {},
   "outputs": [],
   "source": [
    "train_X, val_X, train_y, val_y = train_test_split(X, np.log(y+0.0001), random_state=0, test_size=.4, shuffle=True)"
   ]
  },
  {
   "cell_type": "code",
   "execution_count": 42,
   "metadata": {},
   "outputs": [],
   "source": [
    "# !pip install sklearn_pandas --user"
   ]
  },
  {
   "cell_type": "code",
   "execution_count": 43,
   "metadata": {},
   "outputs": [],
   "source": [
    "from sklearn.preprocessing import StandardScaler, MinMaxScaler\n",
    "from sklearn_pandas import DataFrameMapper, gen_features\n",
    "\n",
    "def map_features(features=[]):\n",
    "    numerical_def = gen_features(\n",
    "        columns=[[c] for c in NUMERICAL if c in features],\n",
    "        classes=[\n",
    "            {'class': StandardScaler}\n",
    "        ]\n",
    "    )\n",
    "\n",
    "    ordinal_def = gen_features(\n",
    "        columns=[[c] for c in ORDINAL if c in features],\n",
    "        classes=[\n",
    "            {'class': MinMaxScaler}\n",
    "        ]\n",
    "    )\n",
    "    return numerical_def #+ ordinal_def"
   ]
  },
  {
   "cell_type": "code",
   "execution_count": 44,
   "metadata": {},
   "outputs": [],
   "source": [
    "mapper1 = DataFrameMapper(map_features(features), df_out=True)"
   ]
  },
  {
   "cell_type": "code",
   "execution_count": 45,
   "metadata": {},
   "outputs": [],
   "source": [
    "from sklearn.metrics import r2_score, mean_absolute_error, mean_squared_error\n",
    "from sklearn.model_selection import cross_validate\n",
    "\n",
    "def mean_absolute_percentage_error(y_true, y_pred): \n",
    "    y_true, y_pred = np.array(y_true), np.array(y_pred)\n",
    "    return np.mean(np.abs((y_true - y_pred) / y_true)) * 100\n",
    "\n",
    "def evaluate_model(train, val, tr_y, val_y, features, est):\n",
    "    mapper = DataFrameMapper(features, df_out=True)\n",
    "#     трансформим отдельно трейн (фиттим) и тест\n",
    "    train = mapper.fit_transform(train)\n",
    "    val = mapper.transform(val)\n",
    "\n",
    "    est.fit(train, tr_y)\n",
    "    pred_val = est.predict(val)\n",
    "    pred_train = est.predict(train)\n",
    "\n",
    "    return pd.DataFrame({\n",
    "        'train_R2': [r2_score(tr_y, pred_train)],\n",
    "        'train_MAE': [mean_absolute_error(tr_y, pred_train)], \n",
    "        'train_MSE': [mean_squared_error(tr_y, pred_train)], \n",
    "        'train_MAPe': [mean_absolute_percentage_error(tr_y, pred_train)],\n",
    "        'test_R2': [r2_score(val_y, pred_val)],\n",
    "        'test_MAE': [mean_absolute_error(val_y, pred_val)],\n",
    "        'test_MSE': [mean_squared_error(val_y, pred_val)],\n",
    "        'test_MAPe': [mean_absolute_percentage_error(val_y, pred_val)]\n",
    "    })"
   ]
  },
  {
   "cell_type": "code",
   "execution_count": 46,
   "metadata": {},
   "outputs": [
    {
     "data": {
      "text/html": [
       "<div>\n",
       "<style scoped>\n",
       "    .dataframe tbody tr th:only-of-type {\n",
       "        vertical-align: middle;\n",
       "    }\n",
       "\n",
       "    .dataframe tbody tr th {\n",
       "        vertical-align: top;\n",
       "    }\n",
       "\n",
       "    .dataframe thead th {\n",
       "        text-align: right;\n",
       "    }\n",
       "</style>\n",
       "<table border=\"1\" class=\"dataframe\">\n",
       "  <thead>\n",
       "    <tr style=\"text-align: right;\">\n",
       "      <th></th>\n",
       "      <th>train_R2</th>\n",
       "      <th>train_MAE</th>\n",
       "      <th>train_MSE</th>\n",
       "      <th>train_MAPe</th>\n",
       "      <th>test_R2</th>\n",
       "      <th>test_MAE</th>\n",
       "      <th>test_MSE</th>\n",
       "      <th>test_MAPe</th>\n",
       "    </tr>\n",
       "  </thead>\n",
       "  <tbody>\n",
       "    <tr>\n",
       "      <th>0</th>\n",
       "      <td>0.520956</td>\n",
       "      <td>0.101672</td>\n",
       "      <td>0.018662</td>\n",
       "      <td>6.979809</td>\n",
       "      <td>0.50475</td>\n",
       "      <td>0.103632</td>\n",
       "      <td>0.018719</td>\n",
       "      <td>7.121529</td>\n",
       "    </tr>\n",
       "  </tbody>\n",
       "</table>\n",
       "</div>"
      ],
      "text/plain": [
       "   train_R2  train_MAE  train_MSE  train_MAPe  test_R2  test_MAE  test_MSE  \\\n",
       "0  0.520956   0.101672   0.018662    6.979809  0.50475  0.103632  0.018719   \n",
       "\n",
       "   test_MAPe  \n",
       "0   7.121529  "
      ]
     },
     "execution_count": 46,
     "metadata": {},
     "output_type": "execute_result"
    }
   ],
   "source": [
    "from sklearn.linear_model import LassoCV, RidgeCV\n",
    "reg_Al2O3 = RidgeCV()\n",
    "scores = evaluate_model(train_X, val_X, train_y, val_y, map_features(features), reg_Al2O3)\n",
    "scores"
   ]
  },
  {
   "cell_type": "code",
   "execution_count": 47,
   "metadata": {},
   "outputs": [],
   "source": [
    "# from sklearn.linear_model import LassoCV, RidgeCV\n",
    "# from sklearn.ensemble import RandomForestRegressor\n",
    "# reg_Al2O3 = LassoCV(cv=5)#RandomForestRegressor(n_estimators=10, max_depth=5)\n",
    "# scores = evaluate_model(train_X[top_features], val_X[top_features], train_y, val_y, map_features(top_features), reg_Al2O3)\n",
    "# scores"
   ]
  },
  {
   "cell_type": "code",
   "execution_count": 48,
   "metadata": {},
   "outputs": [],
   "source": [
    "# rf = RandomForestRegressor(max_depth=10).fit(train_X, train_y)"
   ]
  },
  {
   "cell_type": "code",
   "execution_count": 49,
   "metadata": {},
   "outputs": [],
   "source": [
    "# sorted(dict(zip(train_X.columns, rf.feature_importances_)).items(), key=lambda item: item[1], reverse=True)[]"
   ]
  },
  {
   "cell_type": "code",
   "execution_count": 50,
   "metadata": {},
   "outputs": [
    {
     "data": {
      "text/plain": [
       "RidgeCV(alphas=array([ 0.1,  1. , 10. ]))"
      ]
     },
     "execution_count": 50,
     "metadata": {},
     "output_type": "execute_result"
    }
   ],
   "source": [
    "_ = mapper1.fit(train_X)\n",
    "reg_Al2O3.fit(mapper1.transform(train_X), train_y)"
   ]
  },
  {
   "cell_type": "code",
   "execution_count": 51,
   "metadata": {},
   "outputs": [],
   "source": [
    "import pickle\n",
    "filename = 'Al2O3.sav'\n",
    "pickle.dump(reg_Al2O3, open(filename, 'wb'))"
   ]
  },
  {
   "cell_type": "code",
   "execution_count": 52,
   "metadata": {
    "scrolled": true
   },
   "outputs": [
    {
     "data": {
      "text/plain": [
       "[<matplotlib.lines.Line2D at 0x1f136575108>]"
      ]
     },
     "execution_count": 52,
     "metadata": {},
     "output_type": "execute_result"
    },
    {
     "data": {
      "image/png": "[encoded data removed]",
      "text/plain": [
       "<Figure size 1080x720 with 1 Axes>"
      ]
     },
     "metadata": {
      "needs_background": "light"
     },
     "output_type": "display_data"
    }
   ],
   "source": [
    "preds = reg_Al2O3.predict(mapper1.transform(data[features]))\n",
    "fig = plt.figure(figsize=(15,10))\n",
    "plt.plot(np.exp(preds))\n",
    "plt.plot(data['химшлак последний Al2O3'].values)"
   ]
  },
  {
   "cell_type": "code",
   "execution_count": 53,
   "metadata": {},
   "outputs": [],
   "source": [
    "# reg_Al2O3.fit(mapper.transform(train_X), train_y)"
   ]
  },
  {
   "cell_type": "markdown",
   "metadata": {},
   "source": [
    "#### Следующий таргет"
   ]
  },
  {
   "cell_type": "code",
   "execution_count": 54,
   "metadata": {},
   "outputs": [],
   "source": [
    "from imblearn.under_sampling import RandomUnderSampler\n",
    "target = 'химшлак последний R'\n",
    "data = make_train_test_for_target(df, target, set(TARGETS)) # добавим колонку Al2O3\n",
    "data['химшлак последний Al2O3'] = np.exp(reg_Al2O3.predict(mapper1.transform(data[features]))) # добавим предыдущее предсказание\n",
    "data = data[~(data['химшлак последний R'].isin([3.1, 1.9, 2.12, 2.9, 3.0]))]\n",
    "features_2 = set(data.columns) - set([target])\n",
    "NUMERICAL += ['химшлак последний Al2O3']\n",
    "X, y = data[features_2], data[target]"
   ]
  },
  {
   "cell_type": "code",
   "execution_count": 55,
   "metadata": {},
   "outputs": [
    {
     "data": {
      "text/plain": [
       "Counter({2.6: 373,\n",
       "         2.3: 690,\n",
       "         2.5: 399,\n",
       "         2.2: 907,\n",
       "         2.0: 111,\n",
       "         2.1: 601,\n",
       "         2.4: 355,\n",
       "         2.7: 342,\n",
       "         2.8: 262})"
      ]
     },
     "execution_count": 55,
     "metadata": {},
     "output_type": "execute_result"
    }
   ],
   "source": [
    "from collections import Counter\n",
    "Counter(data['химшлак последний R'])"
   ]
  },
  {
   "cell_type": "code",
   "execution_count": 56,
   "metadata": {},
   "outputs": [],
   "source": [
    "# rus = RandomUnderSampler(random_state=232, replacement=True)# fit predictor and target variable\n",
    "# x_rus, y_rus = rus.fit_resample(X, y.astype(str))\n",
    "from imblearn.over_sampling import SMOTENC\n",
    "\n",
    "ord_cols = [X.columns.get_loc(c) for c in X.columns if c in ORDINAL]\n",
    "smote_nc = SMOTENC(categorical_features=ord_cols,sampling_strategy='not majority',random_state=0, k_neighbors=10)\n",
    "x_rus, y_rus = smote_nc.fit_resample(X, y.astype(str))"
   ]
  },
  {
   "cell_type": "code",
   "execution_count": 57,
   "metadata": {},
   "outputs": [
    {
     "data": {
      "text/plain": [
       "Counter({'2.6': 907,\n",
       "         '2.3': 907,\n",
       "         '2.5': 907,\n",
       "         '2.2': 907,\n",
       "         '2.0': 907,\n",
       "         '2.1': 907,\n",
       "         '2.4': 907,\n",
       "         '2.7': 907,\n",
       "         '2.8': 907})"
      ]
     },
     "execution_count": 57,
     "metadata": {},
     "output_type": "execute_result"
    }
   ],
   "source": [
    "Counter(y_rus)"
   ]
  },
  {
   "cell_type": "code",
   "execution_count": 58,
   "metadata": {},
   "outputs": [],
   "source": [
    "train_X, val_X, train_y, val_y = train_test_split(x_rus, y_rus.astype(float), random_state=0, test_size=.4, shuffle=True, stratify=y_rus)"
   ]
  },
  {
   "cell_type": "code",
   "execution_count": 59,
   "metadata": {},
   "outputs": [
    {
     "data": {
      "text/html": [
       "<div>\n",
       "<style scoped>\n",
       "    .dataframe tbody tr th:only-of-type {\n",
       "        vertical-align: middle;\n",
       "    }\n",
       "\n",
       "    .dataframe tbody tr th {\n",
       "        vertical-align: top;\n",
       "    }\n",
       "\n",
       "    .dataframe thead th {\n",
       "        text-align: right;\n",
       "    }\n",
       "</style>\n",
       "<table border=\"1\" class=\"dataframe\">\n",
       "  <thead>\n",
       "    <tr style=\"text-align: right;\">\n",
       "      <th></th>\n",
       "      <th>train_R2</th>\n",
       "      <th>train_MAE</th>\n",
       "      <th>train_MSE</th>\n",
       "      <th>train_MAPe</th>\n",
       "      <th>test_R2</th>\n",
       "      <th>test_MAE</th>\n",
       "      <th>test_MSE</th>\n",
       "      <th>test_MAPe</th>\n",
       "    </tr>\n",
       "  </thead>\n",
       "  <tbody>\n",
       "    <tr>\n",
       "      <th>0</th>\n",
       "      <td>0.665211</td>\n",
       "      <td>0.116723</td>\n",
       "      <td>0.022321</td>\n",
       "      <td>4.90639</td>\n",
       "      <td>0.625839</td>\n",
       "      <td>0.122838</td>\n",
       "      <td>0.024941</td>\n",
       "      <td>5.183411</td>\n",
       "    </tr>\n",
       "  </tbody>\n",
       "</table>\n",
       "</div>"
      ],
      "text/plain": [
       "   train_R2  train_MAE  train_MSE  train_MAPe   test_R2  test_MAE  test_MSE  \\\n",
       "0  0.665211   0.116723   0.022321     4.90639  0.625839  0.122838  0.024941   \n",
       "\n",
       "   test_MAPe  \n",
       "0   5.183411  "
      ]
     },
     "execution_count": 59,
     "metadata": {},
     "output_type": "execute_result"
    }
   ],
   "source": [
    "from sklearn.linear_model import LassoCV, RidgeCV\n",
    "from sklearn.ensemble import RandomForestRegressor\n",
    "reg_R = RandomForestRegressor(n_estimators=10, max_depth=5, random_state=0)\n",
    "# reg_R = LinearRegression()\n",
    "scores = evaluate_model(train_X, val_X, train_y, val_y, map_features(features_2), reg_R)\n",
    "scores"
   ]
  },
  {
   "cell_type": "code",
   "execution_count": 60,
   "metadata": {},
   "outputs": [
    {
     "data": {
      "text/plain": [
       "RandomForestRegressor(max_depth=5, n_estimators=10, random_state=0)"
      ]
     },
     "execution_count": 60,
     "metadata": {},
     "output_type": "execute_result"
    }
   ],
   "source": [
    "mapper2 = DataFrameMapper(map_features(features_2), df_out=True)\n",
    "_ = mapper2.fit(train_X[features_2])\n",
    "reg_R.fit(mapper2.transform(train_X), train_y)"
   ]
  },
  {
   "cell_type": "code",
   "execution_count": 61,
   "metadata": {},
   "outputs": [
    {
     "data": {
      "text/plain": [
       "[<matplotlib.lines.Line2D at 0x1f13990a448>]"
      ]
     },
     "execution_count": 61,
     "metadata": {},
     "output_type": "execute_result"
    },
    {
     "data": {
      "image/png": "[encoded data removed]",
      "text/plain": [
       "<Figure size 1080x720 with 1 Axes>"
      ]
     },
     "metadata": {
      "needs_background": "light"
     },
     "output_type": "display_data"
    }
   ],
   "source": [
    "preds = reg_R.predict(mapper2.transform(data[features_2]))\n",
    "fig = plt.figure(figsize=(15,10))\n",
    "plt.plot(np.around(preds, 2))\n",
    "plt.plot(data['химшлак последний R'].values, alpha=0.5)"
   ]
  },
  {
   "cell_type": "code",
   "execution_count": 62,
   "metadata": {
    "scrolled": true
   },
   "outputs": [
    {
     "data": {
      "text/plain": [
       "0.03218680693069306"
      ]
     },
     "execution_count": 62,
     "metadata": {},
     "output_type": "execute_result"
    }
   ],
   "source": [
    "mean_squared_error(data['химшлак последний R'].values, np.around(preds, 2))"
   ]
  },
  {
   "cell_type": "code",
   "execution_count": 63,
   "metadata": {},
   "outputs": [],
   "source": [
    "filename = 'R.sav'\n",
    "pickle.dump(reg_R, open(filename, 'wb'))"
   ]
  },
  {
   "cell_type": "markdown",
   "metadata": {},
   "source": [
    "#### Следующий таргет"
   ]
  },
  {
   "cell_type": "code",
   "execution_count": 64,
   "metadata": {},
   "outputs": [
    {
     "data": {
      "text/plain": [
       "<AxesSubplot:>"
      ]
     },
     "execution_count": 64,
     "metadata": {},
     "output_type": "execute_result"
    },
    {
     "data": {
      "image/png": "[encoded data removed]",
      "text/plain": [
       "<Figure size 432x288 with 1 Axes>"
      ]
     },
     "metadata": {
      "needs_background": "light"
     },
     "output_type": "display_data"
    }
   ],
   "source": [
    "df['химшлак последний SiO2'].hist()"
   ]
  },
  {
   "cell_type": "code",
   "execution_count": 65,
   "metadata": {},
   "outputs": [],
   "source": [
    "target = 'химшлак последний SiO2'\n",
    "data = make_train_test_for_target(df, target, TARGETS)\n",
    "data['химшлак последний Al2O3'] = np.exp(reg_Al2O3.predict(mapper1.transform(data[features]))) # добавим предыдущее предсказание\n",
    "data['химшлак последний R'] = np.around(reg_R.predict(mapper2.transform(data[features_2])), 2) # добавим предыдущее предсказание\n",
    "data['химшлак последний R_химшлак последний Al2O3_mul'] = data['химшлак последний Al2O3']*data['химшлак последний R']\n",
    "features_4 = set(data.columns) - set([target])\n",
    "# ORDINAL += ['химшлак последний R']\n",
    "NUMERICAL += ['химшлак последний R_химшлак последний Al2O3_mul', 'химшлак последний R']\n",
    "X, y = data[features_4], data[target]"
   ]
  },
  {
   "cell_type": "code",
   "execution_count": 66,
   "metadata": {},
   "outputs": [],
   "source": [
    "y_strat = y.copy()\n",
    "y_strat.loc[y_strat <=24] = 22\n",
    "y_strat.loc[y_strat > 24] = 26"
   ]
  },
  {
   "cell_type": "code",
   "execution_count": 67,
   "metadata": {},
   "outputs": [],
   "source": [
    "# train_X, val_X, train_y, val_y = train_test_split(X, y, random_state=0, test_size=.4, shuffle=True, stratify=y_strat.astype(str))\n",
    "train_X, val_X, train_y, val_y = train_test_split(X, y, random_state=0, test_size=.4, shuffle=True)"
   ]
  },
  {
   "cell_type": "code",
   "execution_count": 68,
   "metadata": {},
   "outputs": [
    {
     "data": {
      "text/html": [
       "<div>\n",
       "<style scoped>\n",
       "    .dataframe tbody tr th:only-of-type {\n",
       "        vertical-align: middle;\n",
       "    }\n",
       "\n",
       "    .dataframe tbody tr th {\n",
       "        vertical-align: top;\n",
       "    }\n",
       "\n",
       "    .dataframe thead th {\n",
       "        text-align: right;\n",
       "    }\n",
       "</style>\n",
       "<table border=\"1\" class=\"dataframe\">\n",
       "  <thead>\n",
       "    <tr style=\"text-align: right;\">\n",
       "      <th></th>\n",
       "      <th>train_R2</th>\n",
       "      <th>train_MAE</th>\n",
       "      <th>train_MSE</th>\n",
       "      <th>train_MAPe</th>\n",
       "      <th>test_R2</th>\n",
       "      <th>test_MAE</th>\n",
       "      <th>test_MSE</th>\n",
       "      <th>test_MAPe</th>\n",
       "    </tr>\n",
       "  </thead>\n",
       "  <tbody>\n",
       "    <tr>\n",
       "      <th>0</th>\n",
       "      <td>0.236431</td>\n",
       "      <td>1.543365</td>\n",
       "      <td>3.620202</td>\n",
       "      <td>6.619005</td>\n",
       "      <td>0.21484</td>\n",
       "      <td>1.571822</td>\n",
       "      <td>3.786306</td>\n",
       "      <td>6.726546</td>\n",
       "    </tr>\n",
       "  </tbody>\n",
       "</table>\n",
       "</div>"
      ],
      "text/plain": [
       "   train_R2  train_MAE  train_MSE  train_MAPe  test_R2  test_MAE  test_MSE  \\\n",
       "0  0.236431   1.543365   3.620202    6.619005  0.21484  1.571822  3.786306   \n",
       "\n",
       "   test_MAPe  \n",
       "0   6.726546  "
      ]
     },
     "execution_count": 68,
     "metadata": {},
     "output_type": "execute_result"
    }
   ],
   "source": [
    "from sklearn.linear_model import LogisticRegression\n",
    "# reg_SiO2 = RandomForestRegressor(n_estimators=50, max_depth=3)\n",
    "reg_SiO2 = RidgeCV(cv=3)\n",
    "scores = evaluate_model(train_X, val_X, train_y, val_y, map_features(features_4), reg_SiO2)\n",
    "scores"
   ]
  },
  {
   "cell_type": "code",
   "execution_count": 69,
   "metadata": {},
   "outputs": [
    {
     "data": {
      "text/plain": [
       "array([ 0.16302027,  0.07276782,  0.12127668,  0.18903597,  0.0661092 ,\n",
       "        0.02140282, -0.28084607,  0.12458787,  0.54402163, -0.05167848,\n",
       "        0.17861555, -0.1612645 ,  0.08009135, -0.01474286, -0.15805525,\n",
       "       -0.08151607, -0.02883308,  0.02081718,  0.05943558,  0.02728554,\n",
       "       -0.02843901,  0.06287063, -0.17692457,  0.4107873 , -0.13300413,\n",
       "        0.06033875, -0.00510139,  0.12633687, -0.43529317, -0.06457429,\n",
       "        0.56929134, -0.10436665, -0.17803527,  0.06890349, -0.09534266,\n",
       "        0.01765971,  0.01149465,  0.09258035, -0.00784397, -0.48178899,\n",
       "       -0.08879973,  0.09344886, -0.13498427, -0.08451845,  0.35152501,\n",
       "        0.39864993,  0.02510515,  0.08309963,  0.0037973 ,  0.01601705,\n",
       "       -0.01474289, -0.01480032, -0.23565717, -0.07061285,  0.14304932,\n",
       "        0.20994022, -0.05913619,  0.07031068,  0.03836047, -0.05262716,\n",
       "       -0.02047732,  0.1627884 , -0.04053009,  0.06168788,  0.06913496,\n",
       "        0.23487307,  0.17759277, -0.80630131])"
      ]
     },
     "execution_count": 69,
     "metadata": {},
     "output_type": "execute_result"
    }
   ],
   "source": [
    "reg_SiO2.coef_"
   ]
  },
  {
   "cell_type": "code",
   "execution_count": 70,
   "metadata": {},
   "outputs": [],
   "source": [
    "mapper4 = DataFrameMapper(map_features(features_4), df_out=True)\n",
    "_ = mapper4.fit(train_X[features_4])"
   ]
  },
  {
   "cell_type": "code",
   "execution_count": 71,
   "metadata": {},
   "outputs": [
    {
     "data": {
      "text/plain": [
       "RidgeCV(alphas=array([ 0.1,  1. , 10. ]), cv=3)"
      ]
     },
     "execution_count": 71,
     "metadata": {},
     "output_type": "execute_result"
    }
   ],
   "source": [
    "reg_SiO2.fit(mapper4.transform(train_X), train_y)"
   ]
  },
  {
   "cell_type": "code",
   "execution_count": 72,
   "metadata": {},
   "outputs": [],
   "source": [
    "preds = reg_SiO2.predict(mapper4.transform(X))"
   ]
  },
  {
   "cell_type": "code",
   "execution_count": 73,
   "metadata": {},
   "outputs": [
    {
     "data": {
      "text/plain": [
       "1.5547478176179506"
      ]
     },
     "execution_count": 73,
     "metadata": {},
     "output_type": "execute_result"
    }
   ],
   "source": [
    "mean_absolute_error(data['химшлак последний SiO2'].values, preds)"
   ]
  },
  {
   "cell_type": "code",
   "execution_count": 74,
   "metadata": {},
   "outputs": [
    {
     "data": {
      "text/plain": [
       "[<matplotlib.lines.Line2D at 0x1f1399ed808>]"
      ]
     },
     "execution_count": 74,
     "metadata": {},
     "output_type": "execute_result"
    },
    {
     "data": {
      "image/png": "[encoded data removed]",
      "text/plain": [
       "<Figure size 1080x720 with 1 Axes>"
      ]
     },
     "metadata": {
      "needs_background": "light"
     },
     "output_type": "display_data"
    }
   ],
   "source": [
    "preds = reg_SiO2.predict(mapper4.transform(X))\n",
    "fig = plt.figure(figsize=(15,10))\n",
    "# plt.plot((preds-np.mean(preds))*np.std(train_y)/np.std(preds)+np.mean(preds))\n",
    "plt.plot(preds)\n",
    "plt.plot(data['химшлак последний SiO2'].values, alpha=0.5)"
   ]
  },
  {
   "cell_type": "code",
   "execution_count": 75,
   "metadata": {},
   "outputs": [],
   "source": [
    "filename = 'SiO2.sav'\n",
    "pickle.dump(reg_SiO2, open(filename, 'wb'))"
   ]
  },
  {
   "cell_type": "markdown",
   "metadata": {},
   "source": [
    "#### Последний таргет"
   ]
  },
  {
   "cell_type": "code",
   "execution_count": 76,
   "metadata": {
    "scrolled": true
   },
   "outputs": [
    {
     "data": {
      "text/plain": [
       "<AxesSubplot:>"
      ]
     },
     "execution_count": 76,
     "metadata": {},
     "output_type": "execute_result"
    },
    {
     "data": {
      "image/png": "[encoded data removed]",
      "text/plain": [
       "<Figure size 432x288 with 1 Axes>"
      ]
     },
     "metadata": {
      "needs_background": "light"
     },
     "output_type": "display_data"
    }
   ],
   "source": [
    "df['химшлак последний CaO'].hist()"
   ]
  },
  {
   "cell_type": "code",
   "execution_count": 77,
   "metadata": {},
   "outputs": [],
   "source": [
    "target = 'химшлак последний CaO'\n",
    "data = make_train_test_for_target(df, target, [target]) # добавим колонку Al2O3\n",
    "data['химшлак последний Al2O3'] = reg_Al2O3.predict(mapper1.transform(data[features])) # добавим предыдущее предсказание\n",
    "data['химшлак последний R'] = reg_R.predict(mapper2.transform(data[features_2])) # добавим предыдущее предсказание\n",
    "data['химшлак последний R_химшлак последний Al2O3_mul'] = data['химшлак последний Al2O3']*data['химшлак последний R']\n",
    "data['химшлак последний SiO2'] = reg_SiO2.predict(mapper4.transform(data[features_4]))\n",
    "features_3 = set(data.columns) - set([target])\n",
    "NUMERICAL += ['химшлак последний SiO2']\n",
    "X, y = data[features_3], data[target]"
   ]
  },
  {
   "cell_type": "code",
   "execution_count": 78,
   "metadata": {},
   "outputs": [
    {
     "data": {
      "image/png": "[encoded data removed]",
      "text/plain": [
       "<Figure size 432x288 with 2 Axes>"
      ]
     },
     "metadata": {
      "needs_background": "light"
     },
     "output_type": "display_data"
    }
   ],
   "source": [
    "fig = plt.figure()\n",
    "ax1 = fig.add_subplot(211)\n",
    "x = data[target].values\n",
    "prob = ss.probplot(x, dist=ss.norm, plot=ax1)\n",
    "ax1.set_xlabel('')\n",
    "ax1.set_title('Probplot against normal distribution')\n",
    "\n",
    "ax2 = fig.add_subplot(212)\n",
    "xt, _ = ss.boxcox(x)\n",
    "prob = ss.probplot(xt, dist=ss.norm, plot=ax2)\n",
    "ax2.set_title('Probplot after Box-Cox transformation')\n",
    "plt.show()"
   ]
  },
  {
   "cell_type": "code",
   "execution_count": 79,
   "metadata": {},
   "outputs": [],
   "source": [
    "train_X, val_X, train_y, val_y = train_test_split(X, y, random_state=0, test_size=.2, shuffle=True)"
   ]
  },
  {
   "cell_type": "code",
   "execution_count": 80,
   "metadata": {},
   "outputs": [
    {
     "data": {
      "text/html": [
       "<div>\n",
       "<style scoped>\n",
       "    .dataframe tbody tr th:only-of-type {\n",
       "        vertical-align: middle;\n",
       "    }\n",
       "\n",
       "    .dataframe tbody tr th {\n",
       "        vertical-align: top;\n",
       "    }\n",
       "\n",
       "    .dataframe thead th {\n",
       "        text-align: right;\n",
       "    }\n",
       "</style>\n",
       "<table border=\"1\" class=\"dataframe\">\n",
       "  <thead>\n",
       "    <tr style=\"text-align: right;\">\n",
       "      <th></th>\n",
       "      <th>train_R2</th>\n",
       "      <th>train_MAE</th>\n",
       "      <th>train_MSE</th>\n",
       "      <th>train_MAPe</th>\n",
       "      <th>test_R2</th>\n",
       "      <th>test_MAE</th>\n",
       "      <th>test_MSE</th>\n",
       "      <th>test_MAPe</th>\n",
       "    </tr>\n",
       "  </thead>\n",
       "  <tbody>\n",
       "    <tr>\n",
       "      <th>0</th>\n",
       "      <td>0.227888</td>\n",
       "      <td>2.570239</td>\n",
       "      <td>10.940711</td>\n",
       "      <td>4.674918</td>\n",
       "      <td>0.183668</td>\n",
       "      <td>2.655558</td>\n",
       "      <td>11.42191</td>\n",
       "      <td>4.802292</td>\n",
       "    </tr>\n",
       "  </tbody>\n",
       "</table>\n",
       "</div>"
      ],
      "text/plain": [
       "   train_R2  train_MAE  train_MSE  train_MAPe   test_R2  test_MAE  test_MSE  \\\n",
       "0  0.227888   2.570239  10.940711    4.674918  0.183668  2.655558  11.42191   \n",
       "\n",
       "   test_MAPe  \n",
       "0   4.802292  "
      ]
     },
     "execution_count": 80,
     "metadata": {},
     "output_type": "execute_result"
    }
   ],
   "source": [
    "# reg_CaO = RandomForestRegressor(n_estimators=50, max_depth=3)\n",
    "reg_CaO = RidgeCV(cv=3)\n",
    "scores = evaluate_model(train_X, val_X, train_y, val_y, map_features(features_3), reg_CaO)\n",
    "scores"
   ]
  },
  {
   "cell_type": "code",
   "execution_count": 81,
   "metadata": {},
   "outputs": [
    {
     "data": {
      "text/plain": [
       "array([-0.01655957, -0.5613205 , -0.10987932,  0.2801469 ,  0.02101626,\n",
       "       -0.67669553, -0.1398016 ,  0.77539056, -0.13615573,  0.11994064,\n",
       "        0.04139203, -0.07088814, -0.03272765,  0.07211929, -0.04843369,\n",
       "       -0.09096818,  0.09920705,  0.07973385,  0.08475049,  0.14614013,\n",
       "       -0.01855727,  0.07979866, -0.51342421,  0.33118128,  0.1222807 ,\n",
       "        0.24249546, -0.01203937,  0.04990858,  0.2172767 , -0.17351768,\n",
       "        1.21951574,  0.04118594, -0.10727389,  0.03078194, -0.06767406,\n",
       "       -0.04971107, -1.02012341, -0.05185412, -0.09114368, -0.50629046,\n",
       "        0.67655189,  0.02451179, -0.538439  , -0.03008219, -0.03719278,\n",
       "       -0.51217914,  0.0044036 ,  0.00956109, -0.17500601, -0.06956029,\n",
       "        0.0721194 ,  0.02593101,  0.44425831,  0.09897679,  0.70327464,\n",
       "       -0.17047966,  0.33347705,  0.03952757, -0.02628028, -0.26997442,\n",
       "       -0.01324618,  0.23158774, -0.44067653, -0.02307696,  0.36948536,\n",
       "        0.31166273, -0.08566131,  1.01640525,  0.1297238 ])"
      ]
     },
     "execution_count": 81,
     "metadata": {},
     "output_type": "execute_result"
    }
   ],
   "source": [
    "reg_CaO.coef_"
   ]
  },
  {
   "cell_type": "code",
   "execution_count": 127,
   "metadata": {},
   "outputs": [],
   "source": [
    "filename = 'CaO.sav'\n",
    "pickle.dump(reg_CaO, open(filename, 'wb'))"
   ]
  },
  {
   "cell_type": "code",
   "execution_count": 92,
   "metadata": {},
   "outputs": [
    {
     "data": {
      "text/plain": [
       "69"
      ]
     },
     "execution_count": 92,
     "metadata": {},
     "output_type": "execute_result"
    }
   ],
   "source": [
    "len(df.columns)"
   ]
  },
  {
   "cell_type": "code",
   "execution_count": null,
   "metadata": {},
   "outputs": [],
   "source": []
  }
 ],
 "metadata": {
  "kernelspec": {
   "display_name": "Python 3",
   "language": "python",
   "name": "python3"
  },
  "language_info": {
   "codemirror_mode": {
    "name": "ipython",
    "version": 3
   },
   "file_extension": ".py",
   "mimetype": "text/x-python",
   "name": "python",
   "nbconvert_exporter": "python",
   "pygments_lexer": "ipython3",
   "version": "3.7.9"
  }
 },
 "nbformat": 4,
 "nbformat_minor": 4
}
